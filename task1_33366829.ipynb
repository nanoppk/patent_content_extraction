{
 "cells": [
  {
   "cell_type": "markdown",
   "metadata": {
    "id": "QCbAmQ47iqK4"
   },
   "source": [
    "<div class=\"alert alert-block alert-success\">\n",
    "    \n",
    "# FIT5196 Task 1 in Assessment 1\n",
    "#### Student Name: Anon Pipatpakin\n",
    "#### Student ID: 33366829\n",
    "\n",
    "Date: 26/3/2023\n",
    "\n",
    "\n",
    "Environment: Python 3.9.13\n",
    "\n",
    "Libraries used:\n",
    "* re (for regular expression, installed and imported) \n",
    "* pandas (for data manipulation) \n",
    "    \n",
    "</div>"
   ]
  },
  {
   "cell_type": "markdown",
   "metadata": {
    "id": "IjBFqYK4iqK5"
   },
   "source": [
    "<div class=\"alert alert-block alert-danger\">\n",
    "    \n",
    "## Table of Contents\n",
    "\n",
    "</div>    \n",
    "\n",
    "[1. Introduction](#Intro) <br>\n",
    "[2. Importing Libraries](#libs) <br>\n",
    "[3. Examining Patent Files](#examine) <br>\n",
    "[4. Loading and Parsing Files](#load) <br>\n",
    "$\\;\\;\\;\\;$[4.1. Defining Regular Expressions](#Reg_Exp) <br>\n",
    "$\\;\\;\\;\\;$[4.2. Reading Files](#Read) <br>\n",
    "$\\;\\;\\;\\;$[4.3. Whatever else](#latin) <br>\n",
    "[5. Writing to CSV/JSON File](#write) <br>\n",
    "[6. Summary](#summary) <br>\n",
    "[7. References](#Ref) <br>"
   ]
  },
  {
   "cell_type": "markdown",
   "metadata": {
    "id": "AcbqK3KliqK6"
   },
   "source": [
    "-------------------------------------"
   ]
  },
  {
   "cell_type": "markdown",
   "metadata": {
    "id": "pEFdSCIUiqK6"
   },
   "source": [
    "<div class=\"alert alert-block alert-warning\">\n",
    "\n",
    "## 1.  Introduction  <a class=\"anchor\" name=\"Intro\"></a>\n",
    "    \n",
    "</div>"
   ]
  },
  {
   "cell_type": "markdown",
   "metadata": {
    "id": "cGg4-8VSiqK6"
   },
   "source": [
    "This assignment requires extracting data from text file that has been formatted in XML. There is one text file consisting of a total of 150 US patents information. In each patent, we are interested to extract nine features from each patent which include grant_id, patent_title, kind, number_of_claims, inventors, citation_applicat_count, citations_examiner_count, claim_text, and abstract."
   ]
  },
  {
   "cell_type": "markdown",
   "metadata": {
    "id": "p6Ql-W6BiqK7"
   },
   "source": [
    "-------------------------------------"
   ]
  },
  {
   "cell_type": "markdown",
   "metadata": {
    "id": "hnctlBF6iqK7"
   },
   "source": [
    "<div class=\"alert alert-block alert-warning\">\n",
    "    \n",
    "## 2.  Importing Libraries  <a class=\"anchor\" name=\"libs\"></a>\n",
    " </div>"
   ]
  },
  {
   "cell_type": "markdown",
   "metadata": {
    "id": "dQOLlwmAiqK7"
   },
   "source": [
    "The only permitted packages to be used in this assessment are imported in the following. They are used to fulfill the following tasks:\n",
    "\n",
    "* **re:** to define and use regular expressions\n",
    "* **pandas:** use to create data frame and create CSV file"
   ]
  },
  {
   "cell_type": "code",
   "execution_count": 1,
   "metadata": {
    "id": "mKGO6FAXiqK7"
   },
   "outputs": [],
   "source": [
    "import re\n",
    "import pandas as pd"
   ]
  },
  {
   "cell_type": "markdown",
   "metadata": {
    "id": "3DEWD9qIiqK8"
   },
   "source": [
    "-------------------------------------"
   ]
  },
  {
   "cell_type": "markdown",
   "metadata": {
    "collapsed": true,
    "id": "Z814ttFYiqK8"
   },
   "source": [
    "<div class=\"alert alert-block alert-warning\">\n",
    "\n",
    "## 3.  Examining Patent Content <a class=\"anchor\" name=\"examine\"></a>\n",
    "\n",
    " </div>"
   ]
  },
  {
   "cell_type": "markdown",
   "metadata": {
    "id": "4YVIqb_miqK8"
   },
   "source": [
    "First, try to understand the content in the text file, by using XML format tool. Then in order to extract file correctly, we need to identify the relationship, locate the required information, and find the pattern for particular information."
   ]
  },
  {
   "cell_type": "markdown",
   "metadata": {},
   "source": [
    "After having examined the content, the following patterns were observed"
   ]
  },
  {
   "cell_type": "markdown",
   "metadata": {},
   "source": [
    "#### 1. The separater of patents\n",
    "According to the file all patents are separated by '<\\?xml version=\\\"1\\.0\\\" encoding=\\\"UTF-8\\\"\\?>', so it will be used as a separater to separate each patent.\n",
    "\n",
    "\n",
    "![separated pattern](separated_pattern.png)"
   ]
  },
  {
   "cell_type": "markdown",
   "metadata": {},
   "source": [
    "\n",
    "#### 2. grant_id\n",
    "grant_id located between 'file=' and '-', hence we can use this pattern to extract a grant_id from each patent using regular expression.\n",
    "\n",
    "![grant_id pattern](grant_id_pattern.png)"
   ]
  },
  {
   "cell_type": "markdown",
   "metadata": {},
   "source": [
    "\n",
    "#### 3. patent_title\n",
    "The pattern of patent_title is located between the <invention> tag as image.\n",
    "\n",
    "![title_pattern](title.png)"
   ]
  },
  {
   "cell_type": "markdown",
   "metadata": {},
   "source": [
    "\n",
    "#### 4. patent_kind \n",
    "patent_kind is located between \\<kind> and \\</kind> \n",
    "\n",
    "![kind pattern](kind.png)"
   ]
  },
  {
   "cell_type": "markdown",
   "metadata": {},
   "source": [
    "\n",
    "#### 5. number_of_claims\n",
    "Total number of each claim can be address between \\<number-of-claims> and \\</number-of-claims>\n",
    "\n",
    "![claims_number_pattern](claims_number.png)"
   ]
  },
  {
   "cell_type": "markdown",
   "metadata": {},
   "source": [
    "\n",
    "#### 6. inventors\n",
    "Inventors names are separated to first name and last name as a child of inventor and the inventors accordingly. Note that inventors can be consisted of many inventor.\n",
    "![inventors pattern](inventors.png)"
   ]
  },
  {
   "cell_type": "markdown",
   "metadata": {},
   "source": [
    "\n",
    "#### 7. citation_applicant_count and citation_examiner_count\n",
    "Both of them are located between of \\<category> and \\</category>\n",
    "\n",
    "![citation_number_pattern](citation_number.png)"
   ]
  },
  {
   "cell_type": "markdown",
   "metadata": {},
   "source": [
    "\n",
    "#### 8. claims_text\n",
    "claims text are located in front of \\</claims-text>\n",
    "\n",
    "![claims_text_pattern](claim_text1.png)"
   ]
  },
  {
   "cell_type": "markdown",
   "metadata": {},
   "source": [
    "\n",
    "#### 9. abstract\n",
    "A abstract text is located between \\<abastract id \"abstract\"> and \\<abstract>\n",
    "![abstract_pattern](abstract.png)"
   ]
  },
  {
   "cell_type": "markdown",
   "metadata": {
    "id": "fBEASWLfiqK-"
   },
   "source": [
    "-------------------------------------"
   ]
  },
  {
   "cell_type": "markdown",
   "metadata": {
    "collapsed": true,
    "id": "iDoVeDSHiqK-"
   },
   "source": [
    "<div class=\"alert alert-block alert-warning\"> \n",
    "\n",
    "## 4.  Loading and Parsing Files <a class=\"anchor\" name=\"load\"></a>\n",
    "\n",
    "</div>"
   ]
  },
  {
   "cell_type": "markdown",
   "metadata": {
    "id": "z24HaN8hiqK-"
   },
   "source": [
    "Overall steps \n",
    "1. Load text file.\n",
    "2. Next, we are going to split all patents.\n",
    "3. Then extract information patent by patent by using for loop and regular expression. \n",
    "4. The information will be kept in dictionary format, key is a number of patent and value is list of extracted information, ie. {key1: \\[grant_id, patent_title, ...\\], key2: \\[....\\] }.\n",
    "5. Built up the pandas dataframe and write to .CSV format.\n",
    "6. Finally, construct the .json file and write the file."
   ]
  },
  {
   "cell_type": "markdown",
   "metadata": {
    "id": "rApp_Ic9iqK-"
   },
   "source": [
    "<div class=\"alert alert-block alert-info\">\n",
    "    \n",
    "### 4.1. Loading text file <a class=\"anchor\" name=\"Reg_Exp\"></a>"
   ]
  },
  {
   "cell_type": "code",
   "execution_count": 2,
   "metadata": {
    "scrolled": true
   },
   "outputs": [],
   "source": [
    "with open('33366829.txt', 'r') as file:\n",
    "    data = file.read()"
   ]
  },
  {
   "cell_type": "markdown",
   "metadata": {
    "id": "gQ0tuwvZiqK-"
   },
   "source": [
    "-------------------------------------"
   ]
  },
  {
   "cell_type": "markdown",
   "metadata": {
    "id": "rApp_Ic9iqK-"
   },
   "source": [
    "<div class=\"alert alert-block alert-info\">\n",
    "    \n",
    "### 4.2. Splitting patents and Create dictionary <a class=\"anchor\" name=\"Reg_Exp\"></a>"
   ]
  },
  {
   "cell_type": "markdown",
   "metadata": {},
   "source": [
    "Splitting patents to induvidual patent make easier extracting the information without interfering of other patents."
   ]
  },
  {
   "cell_type": "code",
   "execution_count": 3,
   "metadata": {},
   "outputs": [],
   "source": [
    "# Splilt pattern\n",
    "patent_split_pattern = re.compile(r'<\\?xml version=\\\"1\\.0\\\" encoding=\\\"UTF-8\\\"\\?>')\n",
    "# split\n",
    "patent_split_match = patent_split_pattern.split(data)\n",
    "# remove ''\n",
    "patent_split_match.remove('')"
   ]
  },
  {
   "cell_type": "markdown",
   "metadata": {},
   "source": [
    "The extracted information will be kept in dictionary format which will facilitate when creating data frame and constructing .json format."
   ]
  },
  {
   "cell_type": "code",
   "execution_count": 4,
   "metadata": {},
   "outputs": [],
   "source": [
    "# extracted content store in dictionary\n",
    "# {number_of_patent : [grant_id, patent_title, kind, number_of_claims, inventors, citations_applicant_count, citations_examiner_count, claims_text, abstract]}\n",
    "patent_dict = {}"
   ]
  },
  {
   "cell_type": "markdown",
   "metadata": {
    "id": "gQ0tuwvZiqK-"
   },
   "source": [
    "-------------------------------------"
   ]
  },
  {
   "cell_type": "markdown",
   "metadata": {
    "id": "rApp_Ic9iqK-"
   },
   "source": [
    "<div class=\"alert alert-block alert-info\">\n",
    "    \n",
    "### 4.3. Extracting information <a class=\"anchor\" name=\"Reg_Exp\"></a>"
   ]
  },
  {
   "cell_type": "markdown",
   "metadata": {},
   "source": [
    "In the extracting process, we use the regular expression to gain the needed information. I would like to introduce the main regular expression tools that I use frequently in this assignment.\n",
    "1. Positive lookbehind (?<=), use for finding the needed information after specified pattern within the parentasis (?<=pattern)\"Needed Info\".\n",
    "![positive_lookbehind](https://miro.medium.com/v2/resize:fit:1100/1*xvquZSCiO_JsIUp2UGQwPA.gif)\n",
    "2. Positive lookahead (?=), use for finding the needed information before the specified pattern within the paretasis \"Needed Info\"(?=pattern).\n",
    "![positive_lookbehind](https://miro.medium.com/v2/resize:fit:1100/1*XYM8ipBIogh-Xe8rNkVK0A.gif)\n",
    "\n",
    "Note: More detail in https://betterprogramming.pub/demystifying-look-ahead-and-look-behind-in-regex-4a604f99fb8c  \\[1\\]"
   ]
  },
  {
   "cell_type": "markdown",
   "metadata": {},
   "source": [
    "### Extract grant_id"
   ]
  },
  {
   "cell_type": "markdown",
   "metadata": {},
   "source": [
    "The pattern that we will use for grant_id extracting will be  \"(?<=file\\=\\\")(\\[A-Z0-9\\]+)\\-\\[0-9\\]+(?=\\.XML)\".\n",
    "Here, we use of positive lookbehind \"(?<=)\" and positive lookahead \"(?=)\" to find the information that has the same pattern around them. In grant_id case, they are \"file=\"\" and \\.XML tags and then group the needed information."
   ]
  },
  {
   "cell_type": "code",
   "execution_count": 5,
   "metadata": {},
   "outputs": [],
   "source": [
    "# pattern for id\n",
    "id_pattern = re.compile(r'((?<=file\\=\\\")([A-Z0-9]+)\\-[0-9]+(?=\\.XML))')\n",
    "# number of patent use as a key in dict\n",
    "patent_count = 0\n",
    "# loop through each patent\n",
    "for patent in patent_split_match:\n",
    "    patent_count = patent_count + 1   # increse patent_count \n",
    "    id_match = id_pattern.findall(patent)[0][1]  # extract id\n",
    "    patent_dict[patent_count] = [id_match] # attach extracted content to dict and trun value to list"
   ]
  },
  {
   "cell_type": "markdown",
   "metadata": {},
   "source": [
    "### Extract patent_title"
   ]
  },
  {
   "attachments": {
    "image.png": {
     "image/png": "[encoded data removed]"
    }
   },
   "cell_type": "markdown",
   "metadata": {},
   "source": [
    "When extracting the patent titles, we use (?<=\\<invention-title) to match the information behind. The pattern behind \" ?id=\\\"\\[\\w\\]+\\\">(.+)\\</invention-title\\>\" can be explained by the image below.\n",
    "![image.png](attachment:image.png)"
   ]
  },
  {
   "cell_type": "code",
   "execution_count": 6,
   "metadata": {},
   "outputs": [],
   "source": [
    "# claim unicode pattern\n",
    "unicode_pattern = re.compile(r'&#[\\w\\d]+;')\n",
    "# tag pattern use to remove unwanted tags\n",
    "tag_pattern = re.compile(r'''<[\\/\\w\\d!@#$%^&*\\(\\)\\-_+=~\\\"\\{\\}\\[\\]|\\\\:;'\\\"\\?,\\.\\s]+>''')\n",
    "\n",
    "\n",
    "# title pattern\n",
    "title_pattern = re.compile(r'(?<=\\<invention-title) ?id=\\\"[\\w]+\\\">(.+)\\</invention-title\\>')\n",
    "# number of patent use as a key in dict\n",
    "patent_count = 0\n",
    "# loop throung patent\n",
    "for patent in patent_split_match:\n",
    "    patent_count += 1  # increment by 1 to use as a key \n",
    "    title_match = title_pattern.findall(patent)  # find title in each patent\n",
    "    title_match[0] = re.sub(pattern= unicode_pattern, repl=\"\", string=title_match[0])\n",
    "    title_match[0] = re.sub(pattern= tag_pattern, repl=\"\", string=title_match[0])\n",
    "    \n",
    "    \n",
    "    patent_dict[patent_count].append(title_match[0]) # append to list in dict "
   ]
  },
  {
   "cell_type": "markdown",
   "metadata": {},
   "source": [
    "### Extract patent_kind"
   ]
  },
  {
   "cell_type": "markdown",
   "metadata": {},
   "source": [
    "There are total 2 steps in the process of extracting patent_kind.\n",
    "1. To identify the unique patent kind in all patents.\n",
    "2. Extract the kind and then interpret them to comprehensible description. Note that the descriptions are from the given sample_output.csv."
   ]
  },
  {
   "cell_type": "markdown",
   "metadata": {},
   "source": [
    "**Identify the unique values of patent kinds**"
   ]
  },
  {
   "cell_type": "code",
   "execution_count": 7,
   "metadata": {},
   "outputs": [
    {
     "name": "stdout",
     "output_type": "stream",
     "text": [
      "{'S1', 'B1', 'P3', 'B2'}\n"
     ]
    }
   ],
   "source": [
    "# kind pattern\n",
    "kind_pattern = re.compile(r'(?<=\\<kind>)[A-Z][0-9](?=\\<\\/kind>)')\n",
    "kind_set = set()   # use to check unique value of kind\n",
    "for patent in patent_split_match:\n",
    "    kind_match = kind_pattern.findall(patent)[0]  # only the first element refer to patent kind\n",
    "    kind_set.add(kind_match) # add to set\n",
    "\n",
    "# all unique kinds output\n",
    "print(kind_set)"
   ]
  },
  {
   "cell_type": "markdown",
   "metadata": {},
   "source": [
    "**Extract patent kind then interpret them.**"
   ]
  },
  {
   "cell_type": "code",
   "execution_count": 8,
   "metadata": {},
   "outputs": [],
   "source": [
    "# Create a dictonary of kinds and its full description \n",
    "patent_kind_dict = {\n",
    "                   'S1': 'Design Patent',\n",
    "                   'P2': 'Plant Patent Grant (no published application) issued on or after January 2, 2001',\n",
    "                   'P3': 'Plant Patent Grant (with a published application) issued on or after January 2, 2001',\n",
    "                   'E1': 'Reissue Patent',\n",
    "                   'B1': 'Utility Patent Grant (no published application) issued on or after January 2, 2001.',\n",
    "                   'B2': 'Utility Patent Grant (with a published application) issued on or after January 2, 2001.'  \n",
    "                   }"
   ]
  },
  {
   "cell_type": "code",
   "execution_count": 9,
   "metadata": {},
   "outputs": [],
   "source": [
    "# number of patent use as a key in dict\n",
    "patent_count = 0\n",
    "\n",
    "# loop through each patent\n",
    "for patent in patent_split_match:\n",
    "    kind_match = kind_pattern.findall(patent)[0]  # only the first element refer to patent kind\n",
    "    \n",
    "    # matching a extracted kind to full description\n",
    "    for key in patent_kind_dict:\n",
    "        if kind_match == key: \n",
    "            patent_count += 1\n",
    "            kind_match = patent_kind_dict[key]\n",
    "            patent_dict[patent_count].append(kind_match) "
   ]
  },
  {
   "cell_type": "markdown",
   "metadata": {},
   "source": [
    "### Extract number_of_claims"
   ]
  },
  {
   "cell_type": "markdown",
   "metadata": {},
   "source": [
    "The number_of_claims extracting process is relatively easy compare with others. we use the positive lookbehind and match the pattern after it."
   ]
  },
  {
   "cell_type": "code",
   "execution_count": 10,
   "metadata": {},
   "outputs": [],
   "source": [
    "# number of claims pattern\n",
    "num_claims_pattern = re.compile(r'(?<=\\<number\\-of\\-claims>)\\d+')\n",
    "\n",
    "# number of patent use as a key in dict\n",
    "patent_count = 0\n",
    "\n",
    "# loop thrgh each patent and append to dict\n",
    "for patent in patent_split_match:\n",
    "    patent_count += 1\n",
    "    num_claims_match = num_claims_pattern.findall(patent)[0]\n",
    "    patent_dict[patent_count].append(int(num_claims_match))"
   ]
  },
  {
   "cell_type": "markdown",
   "metadata": {},
   "source": [
    "### Extract inventors"
   ]
  },
  {
   "cell_type": "markdown",
   "metadata": {},
   "source": [
    "Since, one patent can be consisted of many inventors so we need to divide the content to 2 level, then extract data from each level.\n",
    "- **level 1**, inventors level which contains many inventors.\n",
    "- **level 2**, inventor level which contains the information of each inventor inculding first name and last name.\n",
    "![inventors_level](inventors_level.png)\n"
   ]
  },
  {
   "cell_type": "code",
   "execution_count": 11,
   "metadata": {},
   "outputs": [],
   "source": [
    "# lvel 1 is all inventors in each patent\n",
    "inventors_list = []   # [[inventors in patent1], [inventors in patent2], ...]\n",
    "inventors_pattern = re.compile(r'(?<=\\<inventors\\>)[\\s\\W\\w]*(?=</inventors>)') # level1 patern\n",
    "\n",
    "# last name pattern \n",
    "lname_pattern = re.compile(r'(?<=\\<last-name>).+(?=\\<\\/last-name>)') \n",
    "\n",
    "# first name pattern\n",
    "fname_pattern = re.compile(r'(?<=\\<first-name>).+(?=\\<\\/first-name>)')\n",
    "\n",
    "# number of patent use as a key in dict\n",
    "patent_count = 0\n",
    "\n",
    "# loop through each patent to extract inventors\n",
    "for patent in patent_split_match:\n",
    "    patent_count += 1  # increment by 1\n",
    "    inventors_match = inventors_pattern.findall(patent)[0]   # find all inventors in each patent, lv1\n",
    "    \n",
    "    # In case there is no inventors append \"NA\"\n",
    "    if len(inventors_match) == 0:\n",
    "        patent_dict[patent_count].append(\"NA\")\n",
    "        continue\n",
    "        \n",
    "    fname_match = fname_pattern.findall(inventors_match) # find all first name of invetors in each patent, lv2\n",
    "    lname_match = lname_pattern.findall(inventors_match) # find all last name of invetors in each patent, lv2\n",
    "    full_name_list = [] # create a full name list \n",
    "    \n",
    "    # loop throgh fname_match and lname_match to format full name\n",
    "    for n in range(len(fname_match)):\n",
    "        fname_match[n] = re.sub(pattern= unicode_pattern, repl='', string=fname_match[n])\n",
    "        lname_match[n] = re.sub(pattern= unicode_pattern, repl='', string=lname_match[n])\n",
    "        \n",
    "        full_name = '{} {}'.format(fname_match[n], lname_match[n])  # formatting full name\n",
    "        full_name_list.append(full_name)  # append formatted full name to full name list\n",
    "    \n",
    "    # crate required format (remove the '' between name)\n",
    "    full_name_str = '[' + ','.join(full_name_list) + ']'\n",
    "    \n",
    "    \n",
    "    patent_dict[patent_count].append(full_name_str) # add the inventors name to patent_dict"
   ]
  },
  {
   "cell_type": "markdown",
   "metadata": {},
   "source": [
    "### Extract citation_application_count and citation_examiner_count\n"
   ]
  },
  {
   "cell_type": "markdown",
   "metadata": {},
   "source": [
    "In this process, we do counting of the specific formats and append to the dictionary."
   ]
  },
  {
   "cell_type": "code",
   "execution_count": 12,
   "metadata": {},
   "outputs": [],
   "source": [
    "# cited by application pattern\n",
    "ci_app_pattern = re.compile(r'<category>cited by applicant</category>')\n",
    "# cited by examiner pattern\n",
    "ci_ex_pattern = re.compile(r'<category>cited by examiner</category>')\n",
    "\n",
    "# number of patent use as a key in dict\n",
    "patent_count = 0\n",
    "\n",
    "# loop through each patent\n",
    "for patent in patent_split_match:\n",
    "    patent_count += 1\n",
    "    ci_app_match = ci_app_pattern.findall(patent)\n",
    "    ci_ex_match = ci_ex_pattern.findall(patent)\n",
    "    patent_dict[patent_count].append(int(len(ci_app_match))) # counting the lenght of matching, then trun it to int\n",
    "    patent_dict[patent_count].append(int(len(ci_ex_match)))  # counting the lenght of matching, then trun it to int"
   ]
  },
  {
   "cell_type": "markdown",
   "metadata": {},
   "source": [
    "### Extract claims_text"
   ]
  },
  {
   "cell_type": "markdown",
   "metadata": {},
   "source": [
    "The extract claims_text process divided to 2 processes\n",
    "1. Extracting the claims text from each patent.\n",
    "2. Remove unwanted tag, for example \\</claim-text>, \\</claim-ref> ect. by function **re.sub()** to remove those tags."
   ]
  },
  {
   "cell_type": "code",
   "execution_count": 13,
   "metadata": {},
   "outputs": [],
   "source": [
    "claim_txt_pattern = re.compile(r'(?<=\\<claim-text>).*')\n",
    "\n",
    "# number of patent use as a key in dict\n",
    "patent_count = 0\n",
    "\n",
    "# loop through each patent\n",
    "for patent in patent_split_match:\n",
    "    patent_count += 1\n",
    "    claim_txt_match = claim_txt_pattern.findall(patent) # matches\n",
    "     \n",
    "    # Check if there is no claim text match\n",
    "    if len(claim_txt_match) == 0:\n",
    "        claim_txt_match == 'NA'\n",
    "        continue\n",
    "\n",
    "    for n in range(len(claim_txt_match)):\n",
    "        claim_txt_match[n] = re.sub(pattern=tag_pattern, repl='', string=claim_txt_match[n])\n",
    "        claim_txt_match[n] = re.sub(pattern=unicode_pattern, repl='', string=claim_txt_match[n])\n",
    "        \n",
    "        \n",
    "    claim_txt = '[' + ','.join(claim_txt_match) + ']'  # in the output file, some has no ',' between claims text\n",
    "    patent_dict[patent_count].append(claim_txt)"
   ]
  },
  {
   "cell_type": "markdown",
   "metadata": {},
   "source": [
    "### Extract abstract"
   ]
  },
  {
   "cell_type": "markdown",
   "metadata": {},
   "source": [
    "In abstract process, we need to \n",
    "1. extract the abstract \n",
    "2. Clean unwanted tags by using the previous tags_pattern\n",
    "3. Replace Unicode character codes, for example &#xb0, &#x2019 etc."
   ]
  },
  {
   "cell_type": "code",
   "execution_count": 14,
   "metadata": {},
   "outputs": [],
   "source": [
    "ab_pattern = re.compile(r'(?<=abstract id=\\\"abstract\\\">)\\s.*')\n",
    "\n",
    "# number of patent use as a key in dict\n",
    "patent_count = 0\n",
    "for patent in patent_split_match:\n",
    "    patent_count += 1\n",
    "    ab_match = ab_pattern.findall(patent)\n",
    "    \n",
    "\n",
    "    if len(ab_match) == 0:\n",
    "        ab_match = 'NA'\n",
    "    elif len(ab_match) > 0:\n",
    "        # tag cleaning\n",
    "        ab_match = re.sub(pattern= tag_pattern, repl='', string=ab_match[0])        \n",
    "       \n",
    "        ab_match = re.sub(pattern= unicode_pattern, repl= '', string= ab_match)\n",
    "        ab_match = ab_match.strip()\n",
    "\n",
    "    patent_dict[patent_count].append(ab_match)"
   ]
  },
  {
   "cell_type": "markdown",
   "metadata": {
    "id": "gQ0tuwvZiqK-"
   },
   "source": [
    "-------------------------------------"
   ]
  },
  {
   "cell_type": "markdown",
   "metadata": {
    "id": "rApp_Ic9iqK-"
   },
   "source": [
    "<div class=\"alert alert-block alert-info\">\n",
    "    \n",
    "### 4.4. Create dataframe<a class=\"anchor\" name=\"Reg_Exp\"></a>"
   ]
  },
  {
   "cell_type": "markdown",
   "metadata": {},
   "source": [
    "After extracting all required information from patents, we need to create data frame by\n",
    "1. create a Pandas dataframe use grant_id, patent_title, kind, number_of_claims, inventors, citations_application_count, citations_examiner_count, claims_text, and abstract headers.\n",
    "2. use for loop to get data from patent_dict and append to the dataframe.\n",
    "3. Next, set grant_id to be index"
   ]
  },
  {
   "cell_type": "code",
   "execution_count": 15,
   "metadata": {},
   "outputs": [
    {
     "name": "stderr",
     "output_type": "stream",
     "text": [
      "C:\\Users\\non_n\\AppData\\Local\\Temp\\ipykernel_27756\\3943321378.py:32: FutureWarning: The frame.append method is deprecated and will be removed from pandas in a future version. Use pandas.concat instead.\n",
      "  df = df.append(patent_content, ignore_index= True)\n",
      "C:\\Users\\non_n\\AppData\\Local\\Temp\\ipykernel_27756\\3943321378.py:32: FutureWarning: The frame.append method is deprecated and will be removed from pandas in a future version. Use pandas.concat instead.\n",
      "  df = df.append(patent_content, ignore_index= True)\n",
      "C:\\Users\\non_n\\AppData\\Local\\Temp\\ipykernel_27756\\3943321378.py:32: FutureWarning: The frame.append method is deprecated and will be removed from pandas in a future version. Use pandas.concat instead.\n",
      "  df = df.append(patent_content, ignore_index= True)\n",
      "C:\\Users\\non_n\\AppData\\Local\\Temp\\ipykernel_27756\\3943321378.py:32: FutureWarning: The frame.append method is deprecated and will be removed from pandas in a future version. Use pandas.concat instead.\n",
      "  df = df.append(patent_content, ignore_index= True)\n",
      "C:\\Users\\non_n\\AppData\\Local\\Temp\\ipykernel_27756\\3943321378.py:32: FutureWarning: The frame.append method is deprecated and will be removed from pandas in a future version. Use pandas.concat instead.\n",
      "  df = df.append(patent_content, ignore_index= True)\n",
      "C:\\Users\\non_n\\AppData\\Local\\Temp\\ipykernel_27756\\3943321378.py:32: FutureWarning: The frame.append method is deprecated and will be removed from pandas in a future version. Use pandas.concat instead.\n",
      "  df = df.append(patent_content, ignore_index= True)\n",
      "C:\\Users\\non_n\\AppData\\Local\\Temp\\ipykernel_27756\\3943321378.py:32: FutureWarning: The frame.append method is deprecated and will be removed from pandas in a future version. Use pandas.concat instead.\n",
      "  df = df.append(patent_content, ignore_index= True)\n",
      "C:\\Users\\non_n\\AppData\\Local\\Temp\\ipykernel_27756\\3943321378.py:32: FutureWarning: The frame.append method is deprecated and will be removed from pandas in a future version. Use pandas.concat instead.\n",
      "  df = df.append(patent_content, ignore_index= True)\n",
      "C:\\Users\\non_n\\AppData\\Local\\Temp\\ipykernel_27756\\3943321378.py:32: FutureWarning: The frame.append method is deprecated and will be removed from pandas in a future version. Use pandas.concat instead.\n",
      "  df = df.append(patent_content, ignore_index= True)\n",
      "C:\\Users\\non_n\\AppData\\Local\\Temp\\ipykernel_27756\\3943321378.py:32: FutureWarning: The frame.append method is deprecated and will be removed from pandas in a future version. Use pandas.concat instead.\n",
      "  df = df.append(patent_content, ignore_index= True)\n",
      "C:\\Users\\non_n\\AppData\\Local\\Temp\\ipykernel_27756\\3943321378.py:32: FutureWarning: The frame.append method is deprecated and will be removed from pandas in a future version. Use pandas.concat instead.\n",
      "  df = df.append(patent_content, ignore_index= True)\n",
      "C:\\Users\\non_n\\AppData\\Local\\Temp\\ipykernel_27756\\3943321378.py:32: FutureWarning: The frame.append method is deprecated and will be removed from pandas in a future version. Use pandas.concat instead.\n",
      "  df = df.append(patent_content, ignore_index= True)\n",
      "C:\\Users\\non_n\\AppData\\Local\\Temp\\ipykernel_27756\\3943321378.py:32: FutureWarning: The frame.append method is deprecated and will be removed from pandas in a future version. Use pandas.concat instead.\n",
      "  df = df.append(patent_content, ignore_index= True)\n",
      "C:\\Users\\non_n\\AppData\\Local\\Temp\\ipykernel_27756\\3943321378.py:32: FutureWarning: The frame.append method is deprecated and will be removed from pandas in a future version. Use pandas.concat instead.\n",
      "  df = df.append(patent_content, ignore_index= True)\n",
      "C:\\Users\\non_n\\AppData\\Local\\Temp\\ipykernel_27756\\3943321378.py:32: FutureWarning: The frame.append method is deprecated and will be removed from pandas in a future version. Use pandas.concat instead.\n",
      "  df = df.append(patent_content, ignore_index= True)\n",
      "C:\\Users\\non_n\\AppData\\Local\\Temp\\ipykernel_27756\\3943321378.py:32: FutureWarning: The frame.append method is deprecated and will be removed from pandas in a future version. Use pandas.concat instead.\n",
      "  df = df.append(patent_content, ignore_index= True)\n",
      "C:\\Users\\non_n\\AppData\\Local\\Temp\\ipykernel_27756\\3943321378.py:32: FutureWarning: The frame.append method is deprecated and will be removed from pandas in a future version. Use pandas.concat instead.\n",
      "  df = df.append(patent_content, ignore_index= True)\n",
      "C:\\Users\\non_n\\AppData\\Local\\Temp\\ipykernel_27756\\3943321378.py:32: FutureWarning: The frame.append method is deprecated and will be removed from pandas in a future version. Use pandas.concat instead.\n",
      "  df = df.append(patent_content, ignore_index= True)\n",
      "C:\\Users\\non_n\\AppData\\Local\\Temp\\ipykernel_27756\\3943321378.py:32: FutureWarning: The frame.append method is deprecated and will be removed from pandas in a future version. Use pandas.concat instead.\n",
      "  df = df.append(patent_content, ignore_index= True)\n",
      "C:\\Users\\non_n\\AppData\\Local\\Temp\\ipykernel_27756\\3943321378.py:32: FutureWarning: The frame.append method is deprecated and will be removed from pandas in a future version. Use pandas.concat instead.\n",
      "  df = df.append(patent_content, ignore_index= True)\n",
      "C:\\Users\\non_n\\AppData\\Local\\Temp\\ipykernel_27756\\3943321378.py:32: FutureWarning: The frame.append method is deprecated and will be removed from pandas in a future version. Use pandas.concat instead.\n",
      "  df = df.append(patent_content, ignore_index= True)\n",
      "C:\\Users\\non_n\\AppData\\Local\\Temp\\ipykernel_27756\\3943321378.py:32: FutureWarning: The frame.append method is deprecated and will be removed from pandas in a future version. Use pandas.concat instead.\n",
      "  df = df.append(patent_content, ignore_index= True)\n",
      "C:\\Users\\non_n\\AppData\\Local\\Temp\\ipykernel_27756\\3943321378.py:32: FutureWarning: The frame.append method is deprecated and will be removed from pandas in a future version. Use pandas.concat instead.\n",
      "  df = df.append(patent_content, ignore_index= True)\n",
      "C:\\Users\\non_n\\AppData\\Local\\Temp\\ipykernel_27756\\3943321378.py:32: FutureWarning: The frame.append method is deprecated and will be removed from pandas in a future version. Use pandas.concat instead.\n",
      "  df = df.append(patent_content, ignore_index= True)\n",
      "C:\\Users\\non_n\\AppData\\Local\\Temp\\ipykernel_27756\\3943321378.py:32: FutureWarning: The frame.append method is deprecated and will be removed from pandas in a future version. Use pandas.concat instead.\n",
      "  df = df.append(patent_content, ignore_index= True)\n",
      "C:\\Users\\non_n\\AppData\\Local\\Temp\\ipykernel_27756\\3943321378.py:32: FutureWarning: The frame.append method is deprecated and will be removed from pandas in a future version. Use pandas.concat instead.\n",
      "  df = df.append(patent_content, ignore_index= True)\n",
      "C:\\Users\\non_n\\AppData\\Local\\Temp\\ipykernel_27756\\3943321378.py:32: FutureWarning: The frame.append method is deprecated and will be removed from pandas in a future version. Use pandas.concat instead.\n",
      "  df = df.append(patent_content, ignore_index= True)\n",
      "C:\\Users\\non_n\\AppData\\Local\\Temp\\ipykernel_27756\\3943321378.py:32: FutureWarning: The frame.append method is deprecated and will be removed from pandas in a future version. Use pandas.concat instead.\n",
      "  df = df.append(patent_content, ignore_index= True)\n",
      "C:\\Users\\non_n\\AppData\\Local\\Temp\\ipykernel_27756\\3943321378.py:32: FutureWarning: The frame.append method is deprecated and will be removed from pandas in a future version. Use pandas.concat instead.\n",
      "  df = df.append(patent_content, ignore_index= True)\n",
      "C:\\Users\\non_n\\AppData\\Local\\Temp\\ipykernel_27756\\3943321378.py:32: FutureWarning: The frame.append method is deprecated and will be removed from pandas in a future version. Use pandas.concat instead.\n",
      "  df = df.append(patent_content, ignore_index= True)\n",
      "C:\\Users\\non_n\\AppData\\Local\\Temp\\ipykernel_27756\\3943321378.py:32: FutureWarning: The frame.append method is deprecated and will be removed from pandas in a future version. Use pandas.concat instead.\n",
      "  df = df.append(patent_content, ignore_index= True)\n",
      "C:\\Users\\non_n\\AppData\\Local\\Temp\\ipykernel_27756\\3943321378.py:32: FutureWarning: The frame.append method is deprecated and will be removed from pandas in a future version. Use pandas.concat instead.\n",
      "  df = df.append(patent_content, ignore_index= True)\n",
      "C:\\Users\\non_n\\AppData\\Local\\Temp\\ipykernel_27756\\3943321378.py:32: FutureWarning: The frame.append method is deprecated and will be removed from pandas in a future version. Use pandas.concat instead.\n",
      "  df = df.append(patent_content, ignore_index= True)\n",
      "C:\\Users\\non_n\\AppData\\Local\\Temp\\ipykernel_27756\\3943321378.py:32: FutureWarning: The frame.append method is deprecated and will be removed from pandas in a future version. Use pandas.concat instead.\n",
      "  df = df.append(patent_content, ignore_index= True)\n",
      "C:\\Users\\non_n\\AppData\\Local\\Temp\\ipykernel_27756\\3943321378.py:32: FutureWarning: The frame.append method is deprecated and will be removed from pandas in a future version. Use pandas.concat instead.\n",
      "  df = df.append(patent_content, ignore_index= True)\n",
      "C:\\Users\\non_n\\AppData\\Local\\Temp\\ipykernel_27756\\3943321378.py:32: FutureWarning: The frame.append method is deprecated and will be removed from pandas in a future version. Use pandas.concat instead.\n",
      "  df = df.append(patent_content, ignore_index= True)\n",
      "C:\\Users\\non_n\\AppData\\Local\\Temp\\ipykernel_27756\\3943321378.py:32: FutureWarning: The frame.append method is deprecated and will be removed from pandas in a future version. Use pandas.concat instead.\n",
      "  df = df.append(patent_content, ignore_index= True)\n",
      "C:\\Users\\non_n\\AppData\\Local\\Temp\\ipykernel_27756\\3943321378.py:32: FutureWarning: The frame.append method is deprecated and will be removed from pandas in a future version. Use pandas.concat instead.\n",
      "  df = df.append(patent_content, ignore_index= True)\n",
      "C:\\Users\\non_n\\AppData\\Local\\Temp\\ipykernel_27756\\3943321378.py:32: FutureWarning: The frame.append method is deprecated and will be removed from pandas in a future version. Use pandas.concat instead.\n",
      "  df = df.append(patent_content, ignore_index= True)\n",
      "C:\\Users\\non_n\\AppData\\Local\\Temp\\ipykernel_27756\\3943321378.py:32: FutureWarning: The frame.append method is deprecated and will be removed from pandas in a future version. Use pandas.concat instead.\n",
      "  df = df.append(patent_content, ignore_index= True)\n",
      "C:\\Users\\non_n\\AppData\\Local\\Temp\\ipykernel_27756\\3943321378.py:32: FutureWarning: The frame.append method is deprecated and will be removed from pandas in a future version. Use pandas.concat instead.\n",
      "  df = df.append(patent_content, ignore_index= True)\n",
      "C:\\Users\\non_n\\AppData\\Local\\Temp\\ipykernel_27756\\3943321378.py:32: FutureWarning: The frame.append method is deprecated and will be removed from pandas in a future version. Use pandas.concat instead.\n",
      "  df = df.append(patent_content, ignore_index= True)\n",
      "C:\\Users\\non_n\\AppData\\Local\\Temp\\ipykernel_27756\\3943321378.py:32: FutureWarning: The frame.append method is deprecated and will be removed from pandas in a future version. Use pandas.concat instead.\n",
      "  df = df.append(patent_content, ignore_index= True)\n",
      "C:\\Users\\non_n\\AppData\\Local\\Temp\\ipykernel_27756\\3943321378.py:32: FutureWarning: The frame.append method is deprecated and will be removed from pandas in a future version. Use pandas.concat instead.\n",
      "  df = df.append(patent_content, ignore_index= True)\n",
      "C:\\Users\\non_n\\AppData\\Local\\Temp\\ipykernel_27756\\3943321378.py:32: FutureWarning: The frame.append method is deprecated and will be removed from pandas in a future version. Use pandas.concat instead.\n",
      "  df = df.append(patent_content, ignore_index= True)\n",
      "C:\\Users\\non_n\\AppData\\Local\\Temp\\ipykernel_27756\\3943321378.py:32: FutureWarning: The frame.append method is deprecated and will be removed from pandas in a future version. Use pandas.concat instead.\n",
      "  df = df.append(patent_content, ignore_index= True)\n",
      "C:\\Users\\non_n\\AppData\\Local\\Temp\\ipykernel_27756\\3943321378.py:32: FutureWarning: The frame.append method is deprecated and will be removed from pandas in a future version. Use pandas.concat instead.\n",
      "  df = df.append(patent_content, ignore_index= True)\n",
      "C:\\Users\\non_n\\AppData\\Local\\Temp\\ipykernel_27756\\3943321378.py:32: FutureWarning: The frame.append method is deprecated and will be removed from pandas in a future version. Use pandas.concat instead.\n",
      "  df = df.append(patent_content, ignore_index= True)\n",
      "C:\\Users\\non_n\\AppData\\Local\\Temp\\ipykernel_27756\\3943321378.py:32: FutureWarning: The frame.append method is deprecated and will be removed from pandas in a future version. Use pandas.concat instead.\n",
      "  df = df.append(patent_content, ignore_index= True)\n",
      "C:\\Users\\non_n\\AppData\\Local\\Temp\\ipykernel_27756\\3943321378.py:32: FutureWarning: The frame.append method is deprecated and will be removed from pandas in a future version. Use pandas.concat instead.\n",
      "  df = df.append(patent_content, ignore_index= True)\n",
      "C:\\Users\\non_n\\AppData\\Local\\Temp\\ipykernel_27756\\3943321378.py:32: FutureWarning: The frame.append method is deprecated and will be removed from pandas in a future version. Use pandas.concat instead.\n",
      "  df = df.append(patent_content, ignore_index= True)\n",
      "C:\\Users\\non_n\\AppData\\Local\\Temp\\ipykernel_27756\\3943321378.py:32: FutureWarning: The frame.append method is deprecated and will be removed from pandas in a future version. Use pandas.concat instead.\n",
      "  df = df.append(patent_content, ignore_index= True)\n",
      "C:\\Users\\non_n\\AppData\\Local\\Temp\\ipykernel_27756\\3943321378.py:32: FutureWarning: The frame.append method is deprecated and will be removed from pandas in a future version. Use pandas.concat instead.\n",
      "  df = df.append(patent_content, ignore_index= True)\n",
      "C:\\Users\\non_n\\AppData\\Local\\Temp\\ipykernel_27756\\3943321378.py:32: FutureWarning: The frame.append method is deprecated and will be removed from pandas in a future version. Use pandas.concat instead.\n",
      "  df = df.append(patent_content, ignore_index= True)\n",
      "C:\\Users\\non_n\\AppData\\Local\\Temp\\ipykernel_27756\\3943321378.py:32: FutureWarning: The frame.append method is deprecated and will be removed from pandas in a future version. Use pandas.concat instead.\n",
      "  df = df.append(patent_content, ignore_index= True)\n",
      "C:\\Users\\non_n\\AppData\\Local\\Temp\\ipykernel_27756\\3943321378.py:32: FutureWarning: The frame.append method is deprecated and will be removed from pandas in a future version. Use pandas.concat instead.\n",
      "  df = df.append(patent_content, ignore_index= True)\n",
      "C:\\Users\\non_n\\AppData\\Local\\Temp\\ipykernel_27756\\3943321378.py:32: FutureWarning: The frame.append method is deprecated and will be removed from pandas in a future version. Use pandas.concat instead.\n",
      "  df = df.append(patent_content, ignore_index= True)\n",
      "C:\\Users\\non_n\\AppData\\Local\\Temp\\ipykernel_27756\\3943321378.py:32: FutureWarning: The frame.append method is deprecated and will be removed from pandas in a future version. Use pandas.concat instead.\n",
      "  df = df.append(patent_content, ignore_index= True)\n",
      "C:\\Users\\non_n\\AppData\\Local\\Temp\\ipykernel_27756\\3943321378.py:32: FutureWarning: The frame.append method is deprecated and will be removed from pandas in a future version. Use pandas.concat instead.\n",
      "  df = df.append(patent_content, ignore_index= True)\n",
      "C:\\Users\\non_n\\AppData\\Local\\Temp\\ipykernel_27756\\3943321378.py:32: FutureWarning: The frame.append method is deprecated and will be removed from pandas in a future version. Use pandas.concat instead.\n",
      "  df = df.append(patent_content, ignore_index= True)\n",
      "C:\\Users\\non_n\\AppData\\Local\\Temp\\ipykernel_27756\\3943321378.py:32: FutureWarning: The frame.append method is deprecated and will be removed from pandas in a future version. Use pandas.concat instead.\n",
      "  df = df.append(patent_content, ignore_index= True)\n",
      "C:\\Users\\non_n\\AppData\\Local\\Temp\\ipykernel_27756\\3943321378.py:32: FutureWarning: The frame.append method is deprecated and will be removed from pandas in a future version. Use pandas.concat instead.\n",
      "  df = df.append(patent_content, ignore_index= True)\n",
      "C:\\Users\\non_n\\AppData\\Local\\Temp\\ipykernel_27756\\3943321378.py:32: FutureWarning: The frame.append method is deprecated and will be removed from pandas in a future version. Use pandas.concat instead.\n",
      "  df = df.append(patent_content, ignore_index= True)\n",
      "C:\\Users\\non_n\\AppData\\Local\\Temp\\ipykernel_27756\\3943321378.py:32: FutureWarning: The frame.append method is deprecated and will be removed from pandas in a future version. Use pandas.concat instead.\n",
      "  df = df.append(patent_content, ignore_index= True)\n",
      "C:\\Users\\non_n\\AppData\\Local\\Temp\\ipykernel_27756\\3943321378.py:32: FutureWarning: The frame.append method is deprecated and will be removed from pandas in a future version. Use pandas.concat instead.\n",
      "  df = df.append(patent_content, ignore_index= True)\n",
      "C:\\Users\\non_n\\AppData\\Local\\Temp\\ipykernel_27756\\3943321378.py:32: FutureWarning: The frame.append method is deprecated and will be removed from pandas in a future version. Use pandas.concat instead.\n",
      "  df = df.append(patent_content, ignore_index= True)\n",
      "C:\\Users\\non_n\\AppData\\Local\\Temp\\ipykernel_27756\\3943321378.py:32: FutureWarning: The frame.append method is deprecated and will be removed from pandas in a future version. Use pandas.concat instead.\n",
      "  df = df.append(patent_content, ignore_index= True)\n",
      "C:\\Users\\non_n\\AppData\\Local\\Temp\\ipykernel_27756\\3943321378.py:32: FutureWarning: The frame.append method is deprecated and will be removed from pandas in a future version. Use pandas.concat instead.\n",
      "  df = df.append(patent_content, ignore_index= True)\n",
      "C:\\Users\\non_n\\AppData\\Local\\Temp\\ipykernel_27756\\3943321378.py:32: FutureWarning: The frame.append method is deprecated and will be removed from pandas in a future version. Use pandas.concat instead.\n",
      "  df = df.append(patent_content, ignore_index= True)\n",
      "C:\\Users\\non_n\\AppData\\Local\\Temp\\ipykernel_27756\\3943321378.py:32: FutureWarning: The frame.append method is deprecated and will be removed from pandas in a future version. Use pandas.concat instead.\n",
      "  df = df.append(patent_content, ignore_index= True)\n",
      "C:\\Users\\non_n\\AppData\\Local\\Temp\\ipykernel_27756\\3943321378.py:32: FutureWarning: The frame.append method is deprecated and will be removed from pandas in a future version. Use pandas.concat instead.\n",
      "  df = df.append(patent_content, ignore_index= True)\n",
      "C:\\Users\\non_n\\AppData\\Local\\Temp\\ipykernel_27756\\3943321378.py:32: FutureWarning: The frame.append method is deprecated and will be removed from pandas in a future version. Use pandas.concat instead.\n",
      "  df = df.append(patent_content, ignore_index= True)\n",
      "C:\\Users\\non_n\\AppData\\Local\\Temp\\ipykernel_27756\\3943321378.py:32: FutureWarning: The frame.append method is deprecated and will be removed from pandas in a future version. Use pandas.concat instead.\n",
      "  df = df.append(patent_content, ignore_index= True)\n",
      "C:\\Users\\non_n\\AppData\\Local\\Temp\\ipykernel_27756\\3943321378.py:32: FutureWarning: The frame.append method is deprecated and will be removed from pandas in a future version. Use pandas.concat instead.\n",
      "  df = df.append(patent_content, ignore_index= True)\n",
      "C:\\Users\\non_n\\AppData\\Local\\Temp\\ipykernel_27756\\3943321378.py:32: FutureWarning: The frame.append method is deprecated and will be removed from pandas in a future version. Use pandas.concat instead.\n",
      "  df = df.append(patent_content, ignore_index= True)\n",
      "C:\\Users\\non_n\\AppData\\Local\\Temp\\ipykernel_27756\\3943321378.py:32: FutureWarning: The frame.append method is deprecated and will be removed from pandas in a future version. Use pandas.concat instead.\n",
      "  df = df.append(patent_content, ignore_index= True)\n",
      "C:\\Users\\non_n\\AppData\\Local\\Temp\\ipykernel_27756\\3943321378.py:32: FutureWarning: The frame.append method is deprecated and will be removed from pandas in a future version. Use pandas.concat instead.\n",
      "  df = df.append(patent_content, ignore_index= True)\n",
      "C:\\Users\\non_n\\AppData\\Local\\Temp\\ipykernel_27756\\3943321378.py:32: FutureWarning: The frame.append method is deprecated and will be removed from pandas in a future version. Use pandas.concat instead.\n",
      "  df = df.append(patent_content, ignore_index= True)\n",
      "C:\\Users\\non_n\\AppData\\Local\\Temp\\ipykernel_27756\\3943321378.py:32: FutureWarning: The frame.append method is deprecated and will be removed from pandas in a future version. Use pandas.concat instead.\n",
      "  df = df.append(patent_content, ignore_index= True)\n",
      "C:\\Users\\non_n\\AppData\\Local\\Temp\\ipykernel_27756\\3943321378.py:32: FutureWarning: The frame.append method is deprecated and will be removed from pandas in a future version. Use pandas.concat instead.\n",
      "  df = df.append(patent_content, ignore_index= True)\n",
      "C:\\Users\\non_n\\AppData\\Local\\Temp\\ipykernel_27756\\3943321378.py:32: FutureWarning: The frame.append method is deprecated and will be removed from pandas in a future version. Use pandas.concat instead.\n",
      "  df = df.append(patent_content, ignore_index= True)\n",
      "C:\\Users\\non_n\\AppData\\Local\\Temp\\ipykernel_27756\\3943321378.py:32: FutureWarning: The frame.append method is deprecated and will be removed from pandas in a future version. Use pandas.concat instead.\n",
      "  df = df.append(patent_content, ignore_index= True)\n",
      "C:\\Users\\non_n\\AppData\\Local\\Temp\\ipykernel_27756\\3943321378.py:32: FutureWarning: The frame.append method is deprecated and will be removed from pandas in a future version. Use pandas.concat instead.\n",
      "  df = df.append(patent_content, ignore_index= True)\n",
      "C:\\Users\\non_n\\AppData\\Local\\Temp\\ipykernel_27756\\3943321378.py:32: FutureWarning: The frame.append method is deprecated and will be removed from pandas in a future version. Use pandas.concat instead.\n",
      "  df = df.append(patent_content, ignore_index= True)\n",
      "C:\\Users\\non_n\\AppData\\Local\\Temp\\ipykernel_27756\\3943321378.py:32: FutureWarning: The frame.append method is deprecated and will be removed from pandas in a future version. Use pandas.concat instead.\n",
      "  df = df.append(patent_content, ignore_index= True)\n",
      "C:\\Users\\non_n\\AppData\\Local\\Temp\\ipykernel_27756\\3943321378.py:32: FutureWarning: The frame.append method is deprecated and will be removed from pandas in a future version. Use pandas.concat instead.\n",
      "  df = df.append(patent_content, ignore_index= True)\n",
      "C:\\Users\\non_n\\AppData\\Local\\Temp\\ipykernel_27756\\3943321378.py:32: FutureWarning: The frame.append method is deprecated and will be removed from pandas in a future version. Use pandas.concat instead.\n",
      "  df = df.append(patent_content, ignore_index= True)\n",
      "C:\\Users\\non_n\\AppData\\Local\\Temp\\ipykernel_27756\\3943321378.py:32: FutureWarning: The frame.append method is deprecated and will be removed from pandas in a future version. Use pandas.concat instead.\n",
      "  df = df.append(patent_content, ignore_index= True)\n",
      "C:\\Users\\non_n\\AppData\\Local\\Temp\\ipykernel_27756\\3943321378.py:32: FutureWarning: The frame.append method is deprecated and will be removed from pandas in a future version. Use pandas.concat instead.\n",
      "  df = df.append(patent_content, ignore_index= True)\n",
      "C:\\Users\\non_n\\AppData\\Local\\Temp\\ipykernel_27756\\3943321378.py:32: FutureWarning: The frame.append method is deprecated and will be removed from pandas in a future version. Use pandas.concat instead.\n",
      "  df = df.append(patent_content, ignore_index= True)\n",
      "C:\\Users\\non_n\\AppData\\Local\\Temp\\ipykernel_27756\\3943321378.py:32: FutureWarning: The frame.append method is deprecated and will be removed from pandas in a future version. Use pandas.concat instead.\n",
      "  df = df.append(patent_content, ignore_index= True)\n",
      "C:\\Users\\non_n\\AppData\\Local\\Temp\\ipykernel_27756\\3943321378.py:32: FutureWarning: The frame.append method is deprecated and will be removed from pandas in a future version. Use pandas.concat instead.\n",
      "  df = df.append(patent_content, ignore_index= True)\n",
      "C:\\Users\\non_n\\AppData\\Local\\Temp\\ipykernel_27756\\3943321378.py:32: FutureWarning: The frame.append method is deprecated and will be removed from pandas in a future version. Use pandas.concat instead.\n",
      "  df = df.append(patent_content, ignore_index= True)\n",
      "C:\\Users\\non_n\\AppData\\Local\\Temp\\ipykernel_27756\\3943321378.py:32: FutureWarning: The frame.append method is deprecated and will be removed from pandas in a future version. Use pandas.concat instead.\n",
      "  df = df.append(patent_content, ignore_index= True)\n",
      "C:\\Users\\non_n\\AppData\\Local\\Temp\\ipykernel_27756\\3943321378.py:32: FutureWarning: The frame.append method is deprecated and will be removed from pandas in a future version. Use pandas.concat instead.\n",
      "  df = df.append(patent_content, ignore_index= True)\n",
      "C:\\Users\\non_n\\AppData\\Local\\Temp\\ipykernel_27756\\3943321378.py:32: FutureWarning: The frame.append method is deprecated and will be removed from pandas in a future version. Use pandas.concat instead.\n",
      "  df = df.append(patent_content, ignore_index= True)\n",
      "C:\\Users\\non_n\\AppData\\Local\\Temp\\ipykernel_27756\\3943321378.py:32: FutureWarning: The frame.append method is deprecated and will be removed from pandas in a future version. Use pandas.concat instead.\n",
      "  df = df.append(patent_content, ignore_index= True)\n",
      "C:\\Users\\non_n\\AppData\\Local\\Temp\\ipykernel_27756\\3943321378.py:32: FutureWarning: The frame.append method is deprecated and will be removed from pandas in a future version. Use pandas.concat instead.\n",
      "  df = df.append(patent_content, ignore_index= True)\n",
      "C:\\Users\\non_n\\AppData\\Local\\Temp\\ipykernel_27756\\3943321378.py:32: FutureWarning: The frame.append method is deprecated and will be removed from pandas in a future version. Use pandas.concat instead.\n",
      "  df = df.append(patent_content, ignore_index= True)\n",
      "C:\\Users\\non_n\\AppData\\Local\\Temp\\ipykernel_27756\\3943321378.py:32: FutureWarning: The frame.append method is deprecated and will be removed from pandas in a future version. Use pandas.concat instead.\n",
      "  df = df.append(patent_content, ignore_index= True)\n",
      "C:\\Users\\non_n\\AppData\\Local\\Temp\\ipykernel_27756\\3943321378.py:32: FutureWarning: The frame.append method is deprecated and will be removed from pandas in a future version. Use pandas.concat instead.\n",
      "  df = df.append(patent_content, ignore_index= True)\n",
      "C:\\Users\\non_n\\AppData\\Local\\Temp\\ipykernel_27756\\3943321378.py:32: FutureWarning: The frame.append method is deprecated and will be removed from pandas in a future version. Use pandas.concat instead.\n",
      "  df = df.append(patent_content, ignore_index= True)\n",
      "C:\\Users\\non_n\\AppData\\Local\\Temp\\ipykernel_27756\\3943321378.py:32: FutureWarning: The frame.append method is deprecated and will be removed from pandas in a future version. Use pandas.concat instead.\n",
      "  df = df.append(patent_content, ignore_index= True)\n",
      "C:\\Users\\non_n\\AppData\\Local\\Temp\\ipykernel_27756\\3943321378.py:32: FutureWarning: The frame.append method is deprecated and will be removed from pandas in a future version. Use pandas.concat instead.\n",
      "  df = df.append(patent_content, ignore_index= True)\n",
      "C:\\Users\\non_n\\AppData\\Local\\Temp\\ipykernel_27756\\3943321378.py:32: FutureWarning: The frame.append method is deprecated and will be removed from pandas in a future version. Use pandas.concat instead.\n",
      "  df = df.append(patent_content, ignore_index= True)\n",
      "C:\\Users\\non_n\\AppData\\Local\\Temp\\ipykernel_27756\\3943321378.py:32: FutureWarning: The frame.append method is deprecated and will be removed from pandas in a future version. Use pandas.concat instead.\n",
      "  df = df.append(patent_content, ignore_index= True)\n",
      "C:\\Users\\non_n\\AppData\\Local\\Temp\\ipykernel_27756\\3943321378.py:32: FutureWarning: The frame.append method is deprecated and will be removed from pandas in a future version. Use pandas.concat instead.\n",
      "  df = df.append(patent_content, ignore_index= True)\n",
      "C:\\Users\\non_n\\AppData\\Local\\Temp\\ipykernel_27756\\3943321378.py:32: FutureWarning: The frame.append method is deprecated and will be removed from pandas in a future version. Use pandas.concat instead.\n",
      "  df = df.append(patent_content, ignore_index= True)\n",
      "C:\\Users\\non_n\\AppData\\Local\\Temp\\ipykernel_27756\\3943321378.py:32: FutureWarning: The frame.append method is deprecated and will be removed from pandas in a future version. Use pandas.concat instead.\n",
      "  df = df.append(patent_content, ignore_index= True)\n",
      "C:\\Users\\non_n\\AppData\\Local\\Temp\\ipykernel_27756\\3943321378.py:32: FutureWarning: The frame.append method is deprecated and will be removed from pandas in a future version. Use pandas.concat instead.\n",
      "  df = df.append(patent_content, ignore_index= True)\n",
      "C:\\Users\\non_n\\AppData\\Local\\Temp\\ipykernel_27756\\3943321378.py:32: FutureWarning: The frame.append method is deprecated and will be removed from pandas in a future version. Use pandas.concat instead.\n",
      "  df = df.append(patent_content, ignore_index= True)\n",
      "C:\\Users\\non_n\\AppData\\Local\\Temp\\ipykernel_27756\\3943321378.py:32: FutureWarning: The frame.append method is deprecated and will be removed from pandas in a future version. Use pandas.concat instead.\n",
      "  df = df.append(patent_content, ignore_index= True)\n",
      "C:\\Users\\non_n\\AppData\\Local\\Temp\\ipykernel_27756\\3943321378.py:32: FutureWarning: The frame.append method is deprecated and will be removed from pandas in a future version. Use pandas.concat instead.\n",
      "  df = df.append(patent_content, ignore_index= True)\n",
      "C:\\Users\\non_n\\AppData\\Local\\Temp\\ipykernel_27756\\3943321378.py:32: FutureWarning: The frame.append method is deprecated and will be removed from pandas in a future version. Use pandas.concat instead.\n",
      "  df = df.append(patent_content, ignore_index= True)\n",
      "C:\\Users\\non_n\\AppData\\Local\\Temp\\ipykernel_27756\\3943321378.py:32: FutureWarning: The frame.append method is deprecated and will be removed from pandas in a future version. Use pandas.concat instead.\n",
      "  df = df.append(patent_content, ignore_index= True)\n",
      "C:\\Users\\non_n\\AppData\\Local\\Temp\\ipykernel_27756\\3943321378.py:32: FutureWarning: The frame.append method is deprecated and will be removed from pandas in a future version. Use pandas.concat instead.\n",
      "  df = df.append(patent_content, ignore_index= True)\n",
      "C:\\Users\\non_n\\AppData\\Local\\Temp\\ipykernel_27756\\3943321378.py:32: FutureWarning: The frame.append method is deprecated and will be removed from pandas in a future version. Use pandas.concat instead.\n",
      "  df = df.append(patent_content, ignore_index= True)\n",
      "C:\\Users\\non_n\\AppData\\Local\\Temp\\ipykernel_27756\\3943321378.py:32: FutureWarning: The frame.append method is deprecated and will be removed from pandas in a future version. Use pandas.concat instead.\n",
      "  df = df.append(patent_content, ignore_index= True)\n",
      "C:\\Users\\non_n\\AppData\\Local\\Temp\\ipykernel_27756\\3943321378.py:32: FutureWarning: The frame.append method is deprecated and will be removed from pandas in a future version. Use pandas.concat instead.\n",
      "  df = df.append(patent_content, ignore_index= True)\n",
      "C:\\Users\\non_n\\AppData\\Local\\Temp\\ipykernel_27756\\3943321378.py:32: FutureWarning: The frame.append method is deprecated and will be removed from pandas in a future version. Use pandas.concat instead.\n",
      "  df = df.append(patent_content, ignore_index= True)\n",
      "C:\\Users\\non_n\\AppData\\Local\\Temp\\ipykernel_27756\\3943321378.py:32: FutureWarning: The frame.append method is deprecated and will be removed from pandas in a future version. Use pandas.concat instead.\n",
      "  df = df.append(patent_content, ignore_index= True)\n",
      "C:\\Users\\non_n\\AppData\\Local\\Temp\\ipykernel_27756\\3943321378.py:32: FutureWarning: The frame.append method is deprecated and will be removed from pandas in a future version. Use pandas.concat instead.\n",
      "  df = df.append(patent_content, ignore_index= True)\n",
      "C:\\Users\\non_n\\AppData\\Local\\Temp\\ipykernel_27756\\3943321378.py:32: FutureWarning: The frame.append method is deprecated and will be removed from pandas in a future version. Use pandas.concat instead.\n",
      "  df = df.append(patent_content, ignore_index= True)\n",
      "C:\\Users\\non_n\\AppData\\Local\\Temp\\ipykernel_27756\\3943321378.py:32: FutureWarning: The frame.append method is deprecated and will be removed from pandas in a future version. Use pandas.concat instead.\n",
      "  df = df.append(patent_content, ignore_index= True)\n",
      "C:\\Users\\non_n\\AppData\\Local\\Temp\\ipykernel_27756\\3943321378.py:32: FutureWarning: The frame.append method is deprecated and will be removed from pandas in a future version. Use pandas.concat instead.\n",
      "  df = df.append(patent_content, ignore_index= True)\n",
      "C:\\Users\\non_n\\AppData\\Local\\Temp\\ipykernel_27756\\3943321378.py:32: FutureWarning: The frame.append method is deprecated and will be removed from pandas in a future version. Use pandas.concat instead.\n",
      "  df = df.append(patent_content, ignore_index= True)\n",
      "C:\\Users\\non_n\\AppData\\Local\\Temp\\ipykernel_27756\\3943321378.py:32: FutureWarning: The frame.append method is deprecated and will be removed from pandas in a future version. Use pandas.concat instead.\n",
      "  df = df.append(patent_content, ignore_index= True)\n",
      "C:\\Users\\non_n\\AppData\\Local\\Temp\\ipykernel_27756\\3943321378.py:32: FutureWarning: The frame.append method is deprecated and will be removed from pandas in a future version. Use pandas.concat instead.\n",
      "  df = df.append(patent_content, ignore_index= True)\n",
      "C:\\Users\\non_n\\AppData\\Local\\Temp\\ipykernel_27756\\3943321378.py:32: FutureWarning: The frame.append method is deprecated and will be removed from pandas in a future version. Use pandas.concat instead.\n",
      "  df = df.append(patent_content, ignore_index= True)\n",
      "C:\\Users\\non_n\\AppData\\Local\\Temp\\ipykernel_27756\\3943321378.py:32: FutureWarning: The frame.append method is deprecated and will be removed from pandas in a future version. Use pandas.concat instead.\n",
      "  df = df.append(patent_content, ignore_index= True)\n",
      "C:\\Users\\non_n\\AppData\\Local\\Temp\\ipykernel_27756\\3943321378.py:32: FutureWarning: The frame.append method is deprecated and will be removed from pandas in a future version. Use pandas.concat instead.\n",
      "  df = df.append(patent_content, ignore_index= True)\n",
      "C:\\Users\\non_n\\AppData\\Local\\Temp\\ipykernel_27756\\3943321378.py:32: FutureWarning: The frame.append method is deprecated and will be removed from pandas in a future version. Use pandas.concat instead.\n",
      "  df = df.append(patent_content, ignore_index= True)\n",
      "C:\\Users\\non_n\\AppData\\Local\\Temp\\ipykernel_27756\\3943321378.py:32: FutureWarning: The frame.append method is deprecated and will be removed from pandas in a future version. Use pandas.concat instead.\n",
      "  df = df.append(patent_content, ignore_index= True)\n",
      "C:\\Users\\non_n\\AppData\\Local\\Temp\\ipykernel_27756\\3943321378.py:32: FutureWarning: The frame.append method is deprecated and will be removed from pandas in a future version. Use pandas.concat instead.\n",
      "  df = df.append(patent_content, ignore_index= True)\n",
      "C:\\Users\\non_n\\AppData\\Local\\Temp\\ipykernel_27756\\3943321378.py:32: FutureWarning: The frame.append method is deprecated and will be removed from pandas in a future version. Use pandas.concat instead.\n",
      "  df = df.append(patent_content, ignore_index= True)\n"
     ]
    },
    {
     "name": "stderr",
     "output_type": "stream",
     "text": [
      "C:\\Users\\non_n\\AppData\\Local\\Temp\\ipykernel_27756\\3943321378.py:32: FutureWarning: The frame.append method is deprecated and will be removed from pandas in a future version. Use pandas.concat instead.\n",
      "  df = df.append(patent_content, ignore_index= True)\n",
      "C:\\Users\\non_n\\AppData\\Local\\Temp\\ipykernel_27756\\3943321378.py:32: FutureWarning: The frame.append method is deprecated and will be removed from pandas in a future version. Use pandas.concat instead.\n",
      "  df = df.append(patent_content, ignore_index= True)\n",
      "C:\\Users\\non_n\\AppData\\Local\\Temp\\ipykernel_27756\\3943321378.py:32: FutureWarning: The frame.append method is deprecated and will be removed from pandas in a future version. Use pandas.concat instead.\n",
      "  df = df.append(patent_content, ignore_index= True)\n",
      "C:\\Users\\non_n\\AppData\\Local\\Temp\\ipykernel_27756\\3943321378.py:32: FutureWarning: The frame.append method is deprecated and will be removed from pandas in a future version. Use pandas.concat instead.\n",
      "  df = df.append(patent_content, ignore_index= True)\n",
      "C:\\Users\\non_n\\AppData\\Local\\Temp\\ipykernel_27756\\3943321378.py:32: FutureWarning: The frame.append method is deprecated and will be removed from pandas in a future version. Use pandas.concat instead.\n",
      "  df = df.append(patent_content, ignore_index= True)\n",
      "C:\\Users\\non_n\\AppData\\Local\\Temp\\ipykernel_27756\\3943321378.py:32: FutureWarning: The frame.append method is deprecated and will be removed from pandas in a future version. Use pandas.concat instead.\n",
      "  df = df.append(patent_content, ignore_index= True)\n",
      "C:\\Users\\non_n\\AppData\\Local\\Temp\\ipykernel_27756\\3943321378.py:32: FutureWarning: The frame.append method is deprecated and will be removed from pandas in a future version. Use pandas.concat instead.\n",
      "  df = df.append(patent_content, ignore_index= True)\n",
      "C:\\Users\\non_n\\AppData\\Local\\Temp\\ipykernel_27756\\3943321378.py:32: FutureWarning: The frame.append method is deprecated and will be removed from pandas in a future version. Use pandas.concat instead.\n",
      "  df = df.append(patent_content, ignore_index= True)\n",
      "C:\\Users\\non_n\\AppData\\Local\\Temp\\ipykernel_27756\\3943321378.py:32: FutureWarning: The frame.append method is deprecated and will be removed from pandas in a future version. Use pandas.concat instead.\n",
      "  df = df.append(patent_content, ignore_index= True)\n",
      "C:\\Users\\non_n\\AppData\\Local\\Temp\\ipykernel_27756\\3943321378.py:32: FutureWarning: The frame.append method is deprecated and will be removed from pandas in a future version. Use pandas.concat instead.\n",
      "  df = df.append(patent_content, ignore_index= True)\n",
      "C:\\Users\\non_n\\AppData\\Local\\Temp\\ipykernel_27756\\3943321378.py:32: FutureWarning: The frame.append method is deprecated and will be removed from pandas in a future version. Use pandas.concat instead.\n",
      "  df = df.append(patent_content, ignore_index= True)\n",
      "C:\\Users\\non_n\\AppData\\Local\\Temp\\ipykernel_27756\\3943321378.py:32: FutureWarning: The frame.append method is deprecated and will be removed from pandas in a future version. Use pandas.concat instead.\n",
      "  df = df.append(patent_content, ignore_index= True)\n",
      "C:\\Users\\non_n\\AppData\\Local\\Temp\\ipykernel_27756\\3943321378.py:32: FutureWarning: The frame.append method is deprecated and will be removed from pandas in a future version. Use pandas.concat instead.\n",
      "  df = df.append(patent_content, ignore_index= True)\n",
      "C:\\Users\\non_n\\AppData\\Local\\Temp\\ipykernel_27756\\3943321378.py:32: FutureWarning: The frame.append method is deprecated and will be removed from pandas in a future version. Use pandas.concat instead.\n",
      "  df = df.append(patent_content, ignore_index= True)\n",
      "C:\\Users\\non_n\\AppData\\Local\\Temp\\ipykernel_27756\\3943321378.py:32: FutureWarning: The frame.append method is deprecated and will be removed from pandas in a future version. Use pandas.concat instead.\n",
      "  df = df.append(patent_content, ignore_index= True)\n"
     ]
    }
   ],
   "source": [
    "'''\n",
    "The order of each feature in patent_dict\n",
    "                    0          1             2     3 \n",
    "{number_of_patent : [grant_id, patent_title, kind, number_of_claims, \n",
    "4          5                          6                         7            8\n",
    "inventors, citations_applicant_count, citations_examiner_count, claims_text, abstract]}\n",
    "''' \n",
    "# built the pandas dataframe\n",
    "df = pd.DataFrame({'grant_id':[],\n",
    "                  'patent_title':[],\n",
    "                   'kind':[],\n",
    "                   'number_of_claims':[],\n",
    "                   'inventors':[],\n",
    "                   'citations_applicant_count':[],\n",
    "                   'citations_examiner_count':[],\n",
    "                   'claims_text':[],\n",
    "                   'abstract':[], \n",
    "                  })\n",
    "\n",
    "# loop throgh the patent_dict and append patent_content to df\n",
    "for n in range(len(patent_dict)):\n",
    "    patent_content = {'grant_id':patent_dict[n+1][0],\n",
    "                  'patent_title':patent_dict[n+1][1],\n",
    "                   'kind':patent_dict[n+1][2],\n",
    "                   'number_of_claims':patent_dict[n+1][3],\n",
    "                   'inventors':patent_dict[n+1][4],\n",
    "                   'citations_applicant_count':patent_dict[n+1][5],\n",
    "                   'citations_examiner_count':patent_dict[n+1][6],\n",
    "                   'claims_text':patent_dict[n+1][7],\n",
    "                   'abstract':patent_dict[n+1][8]}\n",
    "\n",
    "    df = df.append(patent_content, ignore_index= True)\n"
   ]
  },
  {
   "cell_type": "code",
   "execution_count": 16,
   "metadata": {},
   "outputs": [],
   "source": [
    "# Change type of the following columns to int to reudce 2.0 to 2 when writing .csv\n",
    "df['number_of_claims'] = df['number_of_claims'].astype(int)\n",
    "df['citations_applicant_count'] = df['citations_applicant_count'].astype(int)\n",
    "df['citations_examiner_count'] = df['citations_examiner_count'].astype(int)"
   ]
  },
  {
   "cell_type": "code",
   "execution_count": 17,
   "metadata": {},
   "outputs": [],
   "source": [
    "# set grant_id as index\n",
    "df = df.set_index('grant_id')"
   ]
  },
  {
   "cell_type": "code",
   "execution_count": 18,
   "metadata": {},
   "outputs": [
    {
     "data": {
      "text/plain": [
       "patent_title                 0\n",
       "kind                         0\n",
       "number_of_claims             0\n",
       "inventors                    0\n",
       "citations_applicant_count    0\n",
       "citations_examiner_count     0\n",
       "claims_text                  0\n",
       "abstract                     0\n",
       "dtype: int64"
      ]
     },
     "execution_count": 18,
     "metadata": {},
     "output_type": "execute_result"
    }
   ],
   "source": [
    "# check the data frame to see any missing values in the dataframe\n",
    "df.isnull().sum()"
   ]
  },
  {
   "cell_type": "markdown",
   "metadata": {
    "id": "gQ0tuwvZiqK-"
   },
   "source": [
    "-------------------------------------"
   ]
  },
  {
   "cell_type": "markdown",
   "metadata": {
    "id": "rApp_Ic9iqK-"
   },
   "source": [
    "<div class=\"alert alert-block alert-info\">\n",
    "    \n",
    "### 4.5. Constructing json<a class=\"anchor\" name=\"Reg_Exp\"></a>"
   ]
  },
  {
   "cell_type": "markdown",
   "metadata": {},
   "source": [
    "In this section, we try to construct the json format by using based function in python as the below image. \n",
    "![json_format](json_format.png)"
   ]
  },
  {
   "cell_type": "code",
   "execution_count": 19,
   "metadata": {},
   "outputs": [],
   "source": [
    "json_str = '{'\n",
    "\n",
    "for n in patent_dict:\n",
    "    json_str = json_str + '\"' + patent_dict[n][0] + '\"' + ':' + '{' +\\\n",
    "    '\"patent_title\"' + ':' + f'\"{patent_dict[n][1]}\"' + ',' +\\\n",
    "    '\"kind\"' + ':' + f'\"{patent_dict[n][2]}\"' + ',' +\\\n",
    "    '\"number_of_claims\"' + ':' + f'\"{patent_dict[n][3]}\"' + ',' +\\\n",
    "    '\"inventors\"' + ':' + f'\"{patent_dict[n][4]}\"' + ',' +\\\n",
    "    '\"citations_applicant_count\"' + ':' + f'\"{patent_dict[n][5]}\"' + ',' +\\\n",
    "    '\"citations_examiner_count\"' + ':' + f'\"{patent_dict[n][6]}\"' + ',' +\\\n",
    "    '\"claims_text\"' + ':' + f'\"{patent_dict[n][7]}\"' + ',' +\\\n",
    "    '\"abstract\"' + ':' + f'''\"{patent_dict[n][8]}\"''' + '}' + ','\n",
    "    \n",
    "\n",
    "json_str = json_str[:-1] + '}'"
   ]
  },
  {
   "cell_type": "markdown",
   "metadata": {
    "id": "gZ-njkJciqK_"
   },
   "source": [
    "-------------------------------------"
   ]
  },
  {
   "cell_type": "markdown",
   "metadata": {
    "collapsed": true,
    "id": "KVwmp1LfiqLE"
   },
   "source": [
    "<div class=\"alert alert-block alert-warning\"> \n",
    "\n",
    "## 5.  Writing to CSV/JSON File <a class=\"anchor\" name=\"write\"></a>\n",
    "\n",
    "</div>"
   ]
  },
  {
   "cell_type": "code",
   "execution_count": 20,
   "metadata": {},
   "outputs": [],
   "source": [
    "# write the csv file\n",
    "df.to_csv('task1_33366829.csv')"
   ]
  },
  {
   "cell_type": "code",
   "execution_count": 21,
   "metadata": {},
   "outputs": [],
   "source": [
    "with open('task1_33366829.json', 'w') as file:\n",
    "    file.write(json_str)"
   ]
  },
  {
   "cell_type": "code",
   "execution_count": 22,
   "metadata": {},
   "outputs": [],
   "source": [
    "df2 = pd.read_json('task1_33366829.json')"
   ]
  },
  {
   "cell_type": "code",
   "execution_count": 23,
   "metadata": {},
   "outputs": [
    {
     "data": {
      "text/html": [
       "<div>\n",
       "<style scoped>\n",
       "    .dataframe tbody tr th:only-of-type {\n",
       "        vertical-align: middle;\n",
       "    }\n",
       "\n",
       "    .dataframe tbody tr th {\n",
       "        vertical-align: top;\n",
       "    }\n",
       "\n",
       "    .dataframe thead th {\n",
       "        text-align: right;\n",
       "    }\n",
       "</style>\n",
       "<table border=\"1\" class=\"dataframe\">\n",
       "  <thead>\n",
       "    <tr style=\"text-align: right;\">\n",
       "      <th></th>\n",
       "      <th>US10360848</th>\n",
       "      <th>US10362075</th>\n",
       "      <th>US10357394</th>\n",
       "      <th>US10362626</th>\n",
       "      <th>US10358026</th>\n",
       "      <th>US10357194</th>\n",
       "      <th>US10360040</th>\n",
       "      <th>US10357280</th>\n",
       "      <th>US10361133</th>\n",
       "      <th>US10358630</th>\n",
       "      <th>...</th>\n",
       "      <th>US10359345</th>\n",
       "      <th>US10361089</th>\n",
       "      <th>US10361389</th>\n",
       "      <th>US10361895</th>\n",
       "      <th>US10358318</th>\n",
       "      <th>US10357202</th>\n",
       "      <th>US10362285</th>\n",
       "      <th>US10357818</th>\n",
       "      <th>US10358571</th>\n",
       "      <th>USD0854624</th>\n",
       "    </tr>\n",
       "  </thead>\n",
       "  <tbody>\n",
       "    <tr>\n",
       "      <th>patent_title</th>\n",
       "      <td>Pixel compensating circuit</td>\n",
       "      <td>Presenting content captured by a plurality of ...</td>\n",
       "      <td>Ostomy pouch replacement device</td>\n",
       "      <td>Method and apparatus for handling DRX (discont...</td>\n",
       "      <td>Automatic transmission for hybrid vehicle and ...</td>\n",
       "      <td>Catheter</td>\n",
       "      <td>Apparatus, systems, and methods for providing ...</td>\n",
       "      <td>Navigating introducer for tissue access system</td>\n",
       "      <td>High-K metal gate and method for fabricating t...</td>\n",
       "      <td>Recombinant influenza vectors with tandem tran...</td>\n",
       "      <td>...</td>\n",
       "      <td>Method for preparing liquid-state dripping or ...</td>\n",
       "      <td>Plasma processing method</td>\n",
       "      <td>Light-emitting element, light-emitting device,...</td>\n",
       "      <td>Systems and methods for hybrid multi-layer sig...</td>\n",
       "      <td>Predictive analytics to determine elevator pat...</td>\n",
       "      <td>System and method for non-intrusive health mon...</td>\n",
       "      <td>Color night vision cameras, systems, and metho...</td>\n",
       "      <td>Reusable casting head device</td>\n",
       "      <td>Aqueous coating compositions including phenoli...</td>\n",
       "      <td>Quad ride-on toy</td>\n",
       "    </tr>\n",
       "    <tr>\n",
       "      <th>kind</th>\n",
       "      <td>Utility Patent Grant (with a published applica...</td>\n",
       "      <td>Utility Patent Grant (with a published applica...</td>\n",
       "      <td>Utility Patent Grant (with a published applica...</td>\n",
       "      <td>Utility Patent Grant (with a published applica...</td>\n",
       "      <td>Utility Patent Grant (with a published applica...</td>\n",
       "      <td>Utility Patent Grant (with a published applica...</td>\n",
       "      <td>Utility Patent Grant (with a published applica...</td>\n",
       "      <td>Utility Patent Grant (with a published applica...</td>\n",
       "      <td>Utility Patent Grant (with a published applica...</td>\n",
       "      <td>Utility Patent Grant (with a published applica...</td>\n",
       "      <td>...</td>\n",
       "      <td>Utility Patent Grant (with a published applica...</td>\n",
       "      <td>Utility Patent Grant (with a published applica...</td>\n",
       "      <td>Utility Patent Grant (with a published applica...</td>\n",
       "      <td>Utility Patent Grant (no published application...</td>\n",
       "      <td>Utility Patent Grant (with a published applica...</td>\n",
       "      <td>Utility Patent Grant (with a published applica...</td>\n",
       "      <td>Utility Patent Grant (with a published applica...</td>\n",
       "      <td>Utility Patent Grant (with a published applica...</td>\n",
       "      <td>Utility Patent Grant (with a published applica...</td>\n",
       "      <td>Design Patent</td>\n",
       "    </tr>\n",
       "    <tr>\n",
       "      <th>number_of_claims</th>\n",
       "      <td>2</td>\n",
       "      <td>27</td>\n",
       "      <td>13</td>\n",
       "      <td>6</td>\n",
       "      <td>20</td>\n",
       "      <td>32</td>\n",
       "      <td>30</td>\n",
       "      <td>8</td>\n",
       "      <td>20</td>\n",
       "      <td>15</td>\n",
       "      <td>...</td>\n",
       "      <td>10</td>\n",
       "      <td>7</td>\n",
       "      <td>28</td>\n",
       "      <td>28</td>\n",
       "      <td>17</td>\n",
       "      <td>19</td>\n",
       "      <td>20</td>\n",
       "      <td>1</td>\n",
       "      <td>25</td>\n",
       "      <td>1</td>\n",
       "    </tr>\n",
       "    <tr>\n",
       "      <th>inventors</th>\n",
       "      <td>[Huannan Wang]</td>\n",
       "      <td>[Benjamin Nowak]</td>\n",
       "      <td>[Liney Guidry,Theresa Johnson,Reed Johnson,Bru...</td>\n",
       "      <td>[Li-Chih Tseng]</td>\n",
       "      <td>[Olivier Lecomte]</td>\n",
       "      <td>[Stephen Blatcher,Richard Harley Greenville Ow...</td>\n",
       "      <td>[David Moloney,Richard Richmond,David Donohoe,...</td>\n",
       "      <td>[Joseph L. Mark,Brian C. Dougherty]</td>\n",
       "      <td>[Ju-Li Huang,Chih-Long Chiang,Ying-Liang Chuan...</td>\n",
       "      <td>[Yoshihiro Kawaoka,Gabriele Neumann]</td>\n",
       "      <td>...</td>\n",
       "      <td>[Wei Ding]</td>\n",
       "      <td>[Kengo Kaneko,Jun Hirose]</td>\n",
       "      <td>[Satoshi Seo,Hiromi Seo,Tatsuyoshi Takahashi,T...</td>\n",
       "      <td>[Lan Hu]</td>\n",
       "      <td>[Emmanuel Barajas Gonzalez,Shaun E. Harrington...</td>\n",
       "      <td>[David Chong Cheung Hyen,Patrick H. Hayes]</td>\n",
       "      <td>[Michael Keesling,Bran Ferren,Adrian Kaehler,D...</td>\n",
       "      <td>[Hong Shao,Xinxiao Lu,Zhen Zhu]</td>\n",
       "      <td>[Anthony C. Youlton,Robert M. O'Brien,Mary Jo ...</td>\n",
       "      <td>[Bill Talios,John Bisges,David Castrucci]</td>\n",
       "    </tr>\n",
       "    <tr>\n",
       "      <th>citations_applicant_count</th>\n",
       "      <td>3</td>\n",
       "      <td>12</td>\n",
       "      <td>4</td>\n",
       "      <td>17</td>\n",
       "      <td>11</td>\n",
       "      <td>48</td>\n",
       "      <td>145</td>\n",
       "      <td>51</td>\n",
       "      <td>15</td>\n",
       "      <td>322</td>\n",
       "      <td>...</td>\n",
       "      <td>7</td>\n",
       "      <td>1</td>\n",
       "      <td>141</td>\n",
       "      <td>3</td>\n",
       "      <td>20</td>\n",
       "      <td>23</td>\n",
       "      <td>16</td>\n",
       "      <td>9</td>\n",
       "      <td>59</td>\n",
       "      <td>0</td>\n",
       "    </tr>\n",
       "    <tr>\n",
       "      <th>citations_examiner_count</th>\n",
       "      <td>3</td>\n",
       "      <td>1</td>\n",
       "      <td>18</td>\n",
       "      <td>2</td>\n",
       "      <td>1</td>\n",
       "      <td>21</td>\n",
       "      <td>2</td>\n",
       "      <td>4</td>\n",
       "      <td>0</td>\n",
       "      <td>0</td>\n",
       "      <td>...</td>\n",
       "      <td>3</td>\n",
       "      <td>2</td>\n",
       "      <td>2</td>\n",
       "      <td>3</td>\n",
       "      <td>9</td>\n",
       "      <td>42</td>\n",
       "      <td>0</td>\n",
       "      <td>22</td>\n",
       "      <td>2</td>\n",
       "      <td>62</td>\n",
       "    </tr>\n",
       "    <tr>\n",
       "      <th>claims_text</th>\n",
       "      <td>[1. A pixel compensating circuit, comprising: ...</td>\n",
       "      <td>[1. A master electronic device configured to c...</td>\n",
       "      <td>[1. An ostomy pouch replacement device compris...</td>\n",
       "      <td>[1. A method of a UE (User Equipment) handling...</td>\n",
       "      <td>[1. An automatic transmission for a hybrid hea...</td>\n",
       "      <td>[1. A vascular catheter for taking a plurality...</td>\n",
       "      <td>[1. A parallel processing device to access mem...</td>\n",
       "      <td>[1. A surgical access system, comprising: an o...</td>\n",
       "      <td>[1. A method of forming a semiconductor device...</td>\n",
       "      <td>[1. A method to prepare influenza virus, compr...</td>\n",
       "      <td>...</td>\n",
       "      <td>[1. A method for preparing a control sample of...</td>\n",
       "      <td>[1. A plasma processing method performed using...</td>\n",
       "      <td>[1. A light-emitting element comprising:,a fir...</td>\n",
       "      <td>[1. A method for decomposition of a source sig...</td>\n",
       "      <td>[1. A method for determining an optimal path f...</td>\n",
       "      <td>[1. A hand-held controlling device for use in ...</td>\n",
       "      <td>[1. An imaging apparatus, comprising:,at least...</td>\n",
       "      <td>[1. A reusable casting head device, comprising...</td>\n",
       "      <td>[1. A method of making a coating composition, ...</td>\n",
       "      <td>[The ornamental design for a quad ride-on toy,...</td>\n",
       "    </tr>\n",
       "    <tr>\n",
       "      <th>abstract</th>\n",
       "      <td>The disclosure comprises a first to a seventh ...</td>\n",
       "      <td>Disclosed is a method and a system for present...</td>\n",
       "      <td>An ostomy pouch replacement device allows osto...</td>\n",
       "      <td>A method and apparatus are disclosed from the ...</td>\n",
       "      <td>Disclosed is an automatic transmission for a h...</td>\n",
       "      <td>A catheter and associated method for taking a ...</td>\n",
       "      <td>The present application relates generally to a...</td>\n",
       "      <td>A surgical access system is disclosed that inc...</td>\n",
       "      <td>Embodiments of the present disclosure provide ...</td>\n",
       "      <td>The invention provides a composition useful to...</td>\n",
       "      <td>...</td>\n",
       "      <td>Provided are a method for preparing a liquid-s...</td>\n",
       "      <td>A plasma processing method according to an exe...</td>\n",
       "      <td>A multicolor light-emitting element using fluo...</td>\n",
       "      <td>A hybrid multi-layer method for decomposing of...</td>\n",
       "      <td>In an approach for determining an optimal path...</td>\n",
       "      <td>A hand-held device, such as a remote control, ...</td>\n",
       "      <td>Disclosed are improved methods, systems and de...</td>\n",
       "      <td>A reusable casting head device comprises a cas...</td>\n",
       "      <td>The present invention relates to strategies by...</td>\n",
       "      <td>NA</td>\n",
       "    </tr>\n",
       "  </tbody>\n",
       "</table>\n",
       "<p>8 rows × 150 columns</p>\n",
       "</div>"
      ],
      "text/plain": [
       "                                                                  US10360848  \\\n",
       "patent_title                                      Pixel compensating circuit   \n",
       "kind                       Utility Patent Grant (with a published applica...   \n",
       "number_of_claims                                                           2   \n",
       "inventors                                                     [Huannan Wang]   \n",
       "citations_applicant_count                                                  3   \n",
       "citations_examiner_count                                                   3   \n",
       "claims_text                [1. A pixel compensating circuit, comprising: ...   \n",
       "abstract                   The disclosure comprises a first to a seventh ...   \n",
       "\n",
       "                                                                  US10362075  \\\n",
       "patent_title               Presenting content captured by a plurality of ...   \n",
       "kind                       Utility Patent Grant (with a published applica...   \n",
       "number_of_claims                                                          27   \n",
       "inventors                                                   [Benjamin Nowak]   \n",
       "citations_applicant_count                                                 12   \n",
       "citations_examiner_count                                                   1   \n",
       "claims_text                [1. A master electronic device configured to c...   \n",
       "abstract                   Disclosed is a method and a system for present...   \n",
       "\n",
       "                                                                  US10357394  \\\n",
       "patent_title                                 Ostomy pouch replacement device   \n",
       "kind                       Utility Patent Grant (with a published applica...   \n",
       "number_of_claims                                                          13   \n",
       "inventors                  [Liney Guidry,Theresa Johnson,Reed Johnson,Bru...   \n",
       "citations_applicant_count                                                  4   \n",
       "citations_examiner_count                                                  18   \n",
       "claims_text                [1. An ostomy pouch replacement device compris...   \n",
       "abstract                   An ostomy pouch replacement device allows osto...   \n",
       "\n",
       "                                                                  US10362626  \\\n",
       "patent_title               Method and apparatus for handling DRX (discont...   \n",
       "kind                       Utility Patent Grant (with a published applica...   \n",
       "number_of_claims                                                           6   \n",
       "inventors                                                    [Li-Chih Tseng]   \n",
       "citations_applicant_count                                                 17   \n",
       "citations_examiner_count                                                   2   \n",
       "claims_text                [1. A method of a UE (User Equipment) handling...   \n",
       "abstract                   A method and apparatus are disclosed from the ...   \n",
       "\n",
       "                                                                  US10358026  \\\n",
       "patent_title               Automatic transmission for hybrid vehicle and ...   \n",
       "kind                       Utility Patent Grant (with a published applica...   \n",
       "number_of_claims                                                          20   \n",
       "inventors                                                  [Olivier Lecomte]   \n",
       "citations_applicant_count                                                 11   \n",
       "citations_examiner_count                                                   1   \n",
       "claims_text                [1. An automatic transmission for a hybrid hea...   \n",
       "abstract                   Disclosed is an automatic transmission for a h...   \n",
       "\n",
       "                                                                  US10357194  \\\n",
       "patent_title                                                        Catheter   \n",
       "kind                       Utility Patent Grant (with a published applica...   \n",
       "number_of_claims                                                          32   \n",
       "inventors                  [Stephen Blatcher,Richard Harley Greenville Ow...   \n",
       "citations_applicant_count                                                 48   \n",
       "citations_examiner_count                                                  21   \n",
       "claims_text                [1. A vascular catheter for taking a plurality...   \n",
       "abstract                   A catheter and associated method for taking a ...   \n",
       "\n",
       "                                                                  US10360040  \\\n",
       "patent_title               Apparatus, systems, and methods for providing ...   \n",
       "kind                       Utility Patent Grant (with a published applica...   \n",
       "number_of_claims                                                          30   \n",
       "inventors                  [David Moloney,Richard Richmond,David Donohoe,...   \n",
       "citations_applicant_count                                                145   \n",
       "citations_examiner_count                                                   2   \n",
       "claims_text                [1. A parallel processing device to access mem...   \n",
       "abstract                   The present application relates generally to a...   \n",
       "\n",
       "                                                                  US10357280  \\\n",
       "patent_title                  Navigating introducer for tissue access system   \n",
       "kind                       Utility Patent Grant (with a published applica...   \n",
       "number_of_claims                                                           8   \n",
       "inventors                                [Joseph L. Mark,Brian C. Dougherty]   \n",
       "citations_applicant_count                                                 51   \n",
       "citations_examiner_count                                                   4   \n",
       "claims_text                [1. A surgical access system, comprising: an o...   \n",
       "abstract                   A surgical access system is disclosed that inc...   \n",
       "\n",
       "                                                                  US10361133  \\\n",
       "patent_title               High-K metal gate and method for fabricating t...   \n",
       "kind                       Utility Patent Grant (with a published applica...   \n",
       "number_of_claims                                                          20   \n",
       "inventors                  [Ju-Li Huang,Chih-Long Chiang,Ying-Liang Chuan...   \n",
       "citations_applicant_count                                                 15   \n",
       "citations_examiner_count                                                   0   \n",
       "claims_text                [1. A method of forming a semiconductor device...   \n",
       "abstract                   Embodiments of the present disclosure provide ...   \n",
       "\n",
       "                                                                  US10358630  \\\n",
       "patent_title               Recombinant influenza vectors with tandem tran...   \n",
       "kind                       Utility Patent Grant (with a published applica...   \n",
       "number_of_claims                                                          15   \n",
       "inventors                               [Yoshihiro Kawaoka,Gabriele Neumann]   \n",
       "citations_applicant_count                                                322   \n",
       "citations_examiner_count                                                   0   \n",
       "claims_text                [1. A method to prepare influenza virus, compr...   \n",
       "abstract                   The invention provides a composition useful to...   \n",
       "\n",
       "                           ...  \\\n",
       "patent_title               ...   \n",
       "kind                       ...   \n",
       "number_of_claims           ...   \n",
       "inventors                  ...   \n",
       "citations_applicant_count  ...   \n",
       "citations_examiner_count   ...   \n",
       "claims_text                ...   \n",
       "abstract                   ...   \n",
       "\n",
       "                                                                  US10359345  \\\n",
       "patent_title               Method for preparing liquid-state dripping or ...   \n",
       "kind                       Utility Patent Grant (with a published applica...   \n",
       "number_of_claims                                                          10   \n",
       "inventors                                                         [Wei Ding]   \n",
       "citations_applicant_count                                                  7   \n",
       "citations_examiner_count                                                   3   \n",
       "claims_text                [1. A method for preparing a control sample of...   \n",
       "abstract                   Provided are a method for preparing a liquid-s...   \n",
       "\n",
       "                                                                  US10361089  \\\n",
       "patent_title                                        Plasma processing method   \n",
       "kind                       Utility Patent Grant (with a published applica...   \n",
       "number_of_claims                                                           7   \n",
       "inventors                                          [Kengo Kaneko,Jun Hirose]   \n",
       "citations_applicant_count                                                  1   \n",
       "citations_examiner_count                                                   2   \n",
       "claims_text                [1. A plasma processing method performed using...   \n",
       "abstract                   A plasma processing method according to an exe...   \n",
       "\n",
       "                                                                  US10361389  \\\n",
       "patent_title               Light-emitting element, light-emitting device,...   \n",
       "kind                       Utility Patent Grant (with a published applica...   \n",
       "number_of_claims                                                          28   \n",
       "inventors                  [Satoshi Seo,Hiromi Seo,Tatsuyoshi Takahashi,T...   \n",
       "citations_applicant_count                                                141   \n",
       "citations_examiner_count                                                   2   \n",
       "claims_text                [1. A light-emitting element comprising:,a fir...   \n",
       "abstract                   A multicolor light-emitting element using fluo...   \n",
       "\n",
       "                                                                  US10361895  \\\n",
       "patent_title               Systems and methods for hybrid multi-layer sig...   \n",
       "kind                       Utility Patent Grant (no published application...   \n",
       "number_of_claims                                                          28   \n",
       "inventors                                                           [Lan Hu]   \n",
       "citations_applicant_count                                                  3   \n",
       "citations_examiner_count                                                   3   \n",
       "claims_text                [1. A method for decomposition of a source sig...   \n",
       "abstract                   A hybrid multi-layer method for decomposing of...   \n",
       "\n",
       "                                                                  US10358318  \\\n",
       "patent_title               Predictive analytics to determine elevator pat...   \n",
       "kind                       Utility Patent Grant (with a published applica...   \n",
       "number_of_claims                                                          17   \n",
       "inventors                  [Emmanuel Barajas Gonzalez,Shaun E. Harrington...   \n",
       "citations_applicant_count                                                 20   \n",
       "citations_examiner_count                                                   9   \n",
       "claims_text                [1. A method for determining an optimal path f...   \n",
       "abstract                   In an approach for determining an optimal path...   \n",
       "\n",
       "                                                                  US10357202  \\\n",
       "patent_title               System and method for non-intrusive health mon...   \n",
       "kind                       Utility Patent Grant (with a published applica...   \n",
       "number_of_claims                                                          19   \n",
       "inventors                         [David Chong Cheung Hyen,Patrick H. Hayes]   \n",
       "citations_applicant_count                                                 23   \n",
       "citations_examiner_count                                                  42   \n",
       "claims_text                [1. A hand-held controlling device for use in ...   \n",
       "abstract                   A hand-held device, such as a remote control, ...   \n",
       "\n",
       "                                                                  US10362285  \\\n",
       "patent_title               Color night vision cameras, systems, and metho...   \n",
       "kind                       Utility Patent Grant (with a published applica...   \n",
       "number_of_claims                                                          20   \n",
       "inventors                  [Michael Keesling,Bran Ferren,Adrian Kaehler,D...   \n",
       "citations_applicant_count                                                 16   \n",
       "citations_examiner_count                                                   0   \n",
       "claims_text                [1. An imaging apparatus, comprising:,at least...   \n",
       "abstract                   Disclosed are improved methods, systems and de...   \n",
       "\n",
       "                                                                  US10357818  \\\n",
       "patent_title                                    Reusable casting head device   \n",
       "kind                       Utility Patent Grant (with a published applica...   \n",
       "number_of_claims                                                           1   \n",
       "inventors                                    [Hong Shao,Xinxiao Lu,Zhen Zhu]   \n",
       "citations_applicant_count                                                  9   \n",
       "citations_examiner_count                                                  22   \n",
       "claims_text                [1. A reusable casting head device, comprising...   \n",
       "abstract                   A reusable casting head device comprises a cas...   \n",
       "\n",
       "                                                                  US10358571  \\\n",
       "patent_title               Aqueous coating compositions including phenoli...   \n",
       "kind                       Utility Patent Grant (with a published applica...   \n",
       "number_of_claims                                                          25   \n",
       "inventors                  [Anthony C. Youlton,Robert M. O'Brien,Mary Jo ...   \n",
       "citations_applicant_count                                                 59   \n",
       "citations_examiner_count                                                   2   \n",
       "claims_text                [1. A method of making a coating composition, ...   \n",
       "abstract                   The present invention relates to strategies by...   \n",
       "\n",
       "                                                                  USD0854624  \n",
       "patent_title                                                Quad ride-on toy  \n",
       "kind                                                           Design Patent  \n",
       "number_of_claims                                                           1  \n",
       "inventors                          [Bill Talios,John Bisges,David Castrucci]  \n",
       "citations_applicant_count                                                  0  \n",
       "citations_examiner_count                                                  62  \n",
       "claims_text                [The ornamental design for a quad ride-on toy,...  \n",
       "abstract                                                                  NA  \n",
       "\n",
       "[8 rows x 150 columns]"
      ]
     },
     "execution_count": 23,
     "metadata": {},
     "output_type": "execute_result"
    }
   ],
   "source": [
    "df2"
   ]
  },
  {
   "cell_type": "markdown",
   "metadata": {
    "id": "i0WT10TJiqLE"
   },
   "source": [
    "-------------------------------------"
   ]
  },
  {
   "cell_type": "markdown",
   "metadata": {
    "id": "cO8vwKqkiqLF"
   },
   "source": [
    "<div class=\"alert alert-block alert-warning\"> \n",
    "\n",
    "## 6. Summary <a class=\"anchor\" name=\"summary\"></a>\n",
    "\n",
    "</div>"
   ]
  },
  {
   "cell_type": "markdown",
   "metadata": {
    "id": "4QdX7ozQiqLF"
   },
   "source": [
    "In summary, the assignment start by splitting patents to individual patent then extract needed information, kept them in the dictionary. Next create a pandas dataframe and json format from extracted values, then write both csv and json file."
   ]
  },
  {
   "cell_type": "markdown",
   "metadata": {
    "id": "TnASfTmniqLF"
   },
   "source": [
    "-------------------------------------"
   ]
  },
  {
   "cell_type": "markdown",
   "metadata": {
    "id": "Li7bchX9iqLF"
   },
   "source": [
    "<div class=\"alert alert-block alert-warning\"> \n",
    "\n",
    "## 7. References <a class=\"anchor\" name=\"Ref\"></a>\n",
    "\n",
    "</div>"
   ]
  },
  {
   "cell_type": "markdown",
   "metadata": {
    "id": "TkWuWC3NiqLF"
   },
   "source": [
    "\n",
    "\n",
    "[1]<a class=\"anchor\" name=\"ref-2\"></a>How to find the data between two tag  https://betterprogramming.pub/demystifying-look-ahead-and-look-behind-in-regex-4a604f99fb8c, Accessed 10/04/2022."
   ]
  },
  {
   "cell_type": "markdown",
   "metadata": {
    "id": "dVyuz4LciqLG"
   },
   "source": [
    "## --------------------------------------------------------------------------------------------------------------------------"
   ]
  }
 ],
 "metadata": {
  "colab": {
   "name": "task1_xxxxxxx.ipynb",
   "provenance": []
  },
  "kernelspec": {
   "display_name": "Python 3 (ipykernel)",
   "language": "python",
   "name": "python3"
  },
  "language_info": {
   "codemirror_mode": {
    "name": "ipython",
    "version": 3
   },
   "file_extension": ".py",
   "mimetype": "text/x-python",
   "name": "python",
   "nbconvert_exporter": "python",
   "pygments_lexer": "ipython3",
   "version": "3.9.13"
  }
 },
 "nbformat": 4,
 "nbformat_minor": 1
}
